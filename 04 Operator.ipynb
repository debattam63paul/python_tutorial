{
 "cells": [
  {
   "cell_type": "code",
   "execution_count": 1,
   "id": "9775cabd",
   "metadata": {},
   "outputs": [
    {
     "name": "stdout",
     "output_type": "stream",
     "text": [
      "2\n",
      "10\n",
      "8\n",
      "2.0\n",
      "1\n",
      "8\n",
      "1\n"
     ]
    }
   ],
   "source": [
    "''' Arithmetic Operator '''\n",
    "print(1+1) # Addition operator\n",
    "print(20-10)  # Subtraction operator\n",
    "print(2*4)  # Multiplication operator\n",
    "print(10/5)  # Division operator\n",
    "print(4%3)  # Remainder operator\n",
    "print(2**3)  # Power operator\n",
    "print(4//3)  # Floor operator"
   ]
  },
  {
   "cell_type": "code",
   "execution_count": 2,
   "id": "9acd9ba0",
   "metadata": {},
   "outputs": [
    {
     "name": "stdout",
     "output_type": "stream",
     "text": [
      "False\n",
      "True\n",
      "False\n",
      "True\n",
      "True\n",
      "True\n"
     ]
    }
   ],
   "source": [
    "''' Comparision Operator '''\n",
    "print(1>2) #greater than operator\n",
    "print(1<2)  # Lesser than operator\n",
    "print(1==2) # Equal to operator\n",
    "print(2!=1) # Not equal to operator\n",
    "print(4>=2) # Greater than equal to operator\n",
    "print(2<=2) # Lesser than equal to operator"
   ]
  },
  {
   "cell_type": "code",
   "execution_count": 3,
   "id": "4e8f76be",
   "metadata": {},
   "outputs": [
    {
     "name": "stdout",
     "output_type": "stream",
     "text": [
      "False\n",
      "1\n",
      "True\n"
     ]
    }
   ],
   "source": [
    "''' Logical Operator '''\n",
    "print(True and False)  # and operator\n",
    "print(1 or 0)  # or opeartor\n",
    "print(not False)  # not operator"
   ]
  },
  {
   "cell_type": "code",
   "execution_count": 4,
   "id": "9d3100e8",
   "metadata": {},
   "outputs": [
    {
     "name": "stdout",
     "output_type": "stream",
     "text": [
      "0b11000\n",
      "0\n",
      "55\n",
      "-35\n",
      "7\n",
      "172\n"
     ]
    }
   ],
   "source": [
    "''' Bit-wise Operator '''\n",
    "print(bin(24))\n",
    "\n",
    "print(24 & 5) #Bitwise and operator\n",
    "print(34 | 53) # Bitwise or operator\n",
    "print(~34) # Bitwise not operator\n",
    "print(30>>2) # Right shift operator\n",
    "print(43<<2) # Left shift operator"
   ]
  },
  {
   "cell_type": "code",
   "execution_count": 5,
   "id": "31cb8d14",
   "metadata": {},
   "outputs": [
    {
     "name": "stdout",
     "output_type": "stream",
     "text": [
      "12\n",
      "1.0\n"
     ]
    }
   ],
   "source": [
    "''' Assignment Operator '''\n",
    "a = 10\n",
    "a = a+2\n",
    "a+=2\n",
    "a = a-1\n",
    "a-=1\n",
    "print(a)\n",
    "\n",
    "b = 2\n",
    "b = b*2\n",
    "b*=3\n",
    "b/=4\n",
    "b=b/3\n",
    "print(b)"
   ]
  },
  {
   "cell_type": "code",
   "execution_count": null,
   "id": "0aa19956",
   "metadata": {},
   "outputs": [],
   "source": []
  }
 ],
 "metadata": {
  "kernelspec": {
   "display_name": "Python 3 (ipykernel)",
   "language": "python",
   "name": "python3"
  },
  "language_info": {
   "codemirror_mode": {
    "name": "ipython",
    "version": 3
   },
   "file_extension": ".py",
   "mimetype": "text/x-python",
   "name": "python",
   "nbconvert_exporter": "python",
   "pygments_lexer": "ipython3",
   "version": "3.9.7"
  }
 },
 "nbformat": 4,
 "nbformat_minor": 5
}
