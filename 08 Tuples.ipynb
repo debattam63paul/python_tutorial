{
 "cells": [
  {
   "cell_type": "raw",
   "id": "f439617b",
   "metadata": {},
   "source": [
    "** Tuple --> Immutable Object, we cant change any tuple element after tuple is created\n",
    "   List --> Mutable Object, we cant change list element later "
   ]
  },
  {
   "cell_type": "code",
   "execution_count": 19,
   "id": "960bb2ba",
   "metadata": {},
   "outputs": [
    {
     "name": "stdout",
     "output_type": "stream",
     "text": [
      "<class 'tuple'>\n",
      "<class 'list'>\n"
     ]
    }
   ],
   "source": [
    "t=()\n",
    "l=[]\n",
    "print(type(t))\n",
    "print(type(l))"
   ]
  },
  {
   "cell_type": "code",
   "execution_count": 4,
   "id": "bf15f98e",
   "metadata": {},
   "outputs": [
    {
     "name": "stdout",
     "output_type": "stream",
     "text": [
      "<class 'tuple'>\n",
      "(1, 2, 3.56, (4+5j), 'Debattam', True)\n"
     ]
    }
   ],
   "source": [
    "t1=(1, 2, 3.56, 4+5j, \"Debattam\", True)\n",
    "print(type(t1))\n",
    "print(t1)"
   ]
  },
  {
   "cell_type": "code",
   "execution_count": 6,
   "id": "b5c42946",
   "metadata": {},
   "outputs": [
    {
     "name": "stdout",
     "output_type": "stream",
     "text": [
      "(4+5j)\n",
      "Debattam\n"
     ]
    }
   ],
   "source": [
    "# We can extract any tuple element by indexing\n",
    "print(t1[3])\n",
    "print(t1[-2])"
   ]
  },
  {
   "cell_type": "code",
   "execution_count": 8,
   "id": "db433248",
   "metadata": {},
   "outputs": [
    {
     "data": {
      "text/plain": [
       "(True, 'Debattam', (4+5j), 3.56, 2, 1)"
      ]
     },
     "execution_count": 8,
     "metadata": {},
     "output_type": "execute_result"
    }
   ],
   "source": [
    "# Reversing the tuple without changing main tuple (without using item reassignment operator)\n",
    "t1[::-1]"
   ]
  },
  {
   "cell_type": "code",
   "execution_count": 10,
   "id": "631b3c44",
   "metadata": {},
   "outputs": [
    {
     "data": {
      "text/plain": [
       "(1, 2, 3.56, (4+5j), 'Debattam')"
      ]
     },
     "execution_count": 10,
     "metadata": {},
     "output_type": "execute_result"
    }
   ],
   "source": [
    "# Slicing operation\n",
    "t1[0:5]"
   ]
  },
  {
   "cell_type": "code",
   "execution_count": 11,
   "id": "b85e8242",
   "metadata": {},
   "outputs": [
    {
     "data": {
      "text/plain": [
       "1"
      ]
     },
     "execution_count": 11,
     "metadata": {},
     "output_type": "execute_result"
    }
   ],
   "source": [
    "t1.count(3.56) # It shows how many times 3.56 occuring in tuple"
   ]
  },
  {
   "cell_type": "code",
   "execution_count": 18,
   "id": "197ee935",
   "metadata": {},
   "outputs": [
    {
     "data": {
      "text/plain": [
       "2"
      ]
     },
     "execution_count": 18,
     "metadata": {},
     "output_type": "execute_result"
    }
   ],
   "source": [
    "t1.count(True) # The system internally treats True as 1 "
   ]
  },
  {
   "cell_type": "code",
   "execution_count": 17,
   "id": "76a2416f",
   "metadata": {},
   "outputs": [
    {
     "data": {
      "text/plain": [
       "0"
      ]
     },
     "execution_count": 17,
     "metadata": {},
     "output_type": "execute_result"
    }
   ],
   "source": [
    "t1.index(True) # The system internally treats True as 1"
   ]
  },
  {
   "cell_type": "code",
   "execution_count": 20,
   "id": "f2bc5ea6",
   "metadata": {},
   "outputs": [
    {
     "name": "stdout",
     "output_type": "stream",
     "text": [
      "1 <class 'int'>\n",
      "2 <class 'int'>\n",
      "3.56 <class 'float'>\n",
      "(4+5j) <class 'complex'>\n",
      "Debattam <class 'str'>\n",
      "True <class 'bool'>\n"
     ]
    }
   ],
   "source": [
    "for i in t1:\n",
    "    print(i,type(i))"
   ]
  },
  {
   "cell_type": "code",
   "execution_count": 35,
   "id": "626eea9e",
   "metadata": {},
   "outputs": [
    {
     "data": {
      "text/plain": [
       "True"
      ]
     },
     "execution_count": 35,
     "metadata": {},
     "output_type": "execute_result"
    }
   ],
   "source": [
    "# Checking an element is inside a tuple or not\n",
    "'Debattam' in t1"
   ]
  },
  {
   "cell_type": "code",
   "execution_count": 21,
   "id": "353f8ed0",
   "metadata": {},
   "outputs": [],
   "source": [
    "t2=(1,2,3,4)"
   ]
  },
  {
   "cell_type": "code",
   "execution_count": 22,
   "id": "0fc4118f",
   "metadata": {},
   "outputs": [
    {
     "data": {
      "text/plain": [
       "(1, 2, 3, 4, 1, 2, 3, 4, 1, 2, 3, 4, 1, 2, 3, 4)"
      ]
     },
     "execution_count": 22,
     "metadata": {},
     "output_type": "execute_result"
    }
   ],
   "source": [
    "t2*4 "
   ]
  },
  {
   "cell_type": "code",
   "execution_count": 23,
   "id": "c921959e",
   "metadata": {},
   "outputs": [
    {
     "data": {
      "text/plain": [
       "4"
      ]
     },
     "execution_count": 23,
     "metadata": {},
     "output_type": "execute_result"
    }
   ],
   "source": [
    "max(t2)"
   ]
  },
  {
   "cell_type": "code",
   "execution_count": 24,
   "id": "d6c1f158",
   "metadata": {},
   "outputs": [
    {
     "data": {
      "text/plain": [
       "1"
      ]
     },
     "execution_count": 24,
     "metadata": {},
     "output_type": "execute_result"
    }
   ],
   "source": [
    "min(t2)"
   ]
  },
  {
   "cell_type": "code",
   "execution_count": 26,
   "id": "0c68ff29",
   "metadata": {},
   "outputs": [
    {
     "data": {
      "text/plain": [
       "((1, 2, 3.56, (4+5j), 'Debattam', True), (1, 2, 3, 4))"
      ]
     },
     "execution_count": 26,
     "metadata": {},
     "output_type": "execute_result"
    }
   ],
   "source": [
    "# Tuples inside tuple\n",
    "t3 = (t1,t2)\n",
    "t3"
   ]
  },
  {
   "cell_type": "code",
   "execution_count": 34,
   "id": "b0faeb7d",
   "metadata": {},
   "outputs": [
    {
     "data": {
      "text/plain": [
       "2"
      ]
     },
     "execution_count": 34,
     "metadata": {},
     "output_type": "execute_result"
    }
   ],
   "source": [
    "len(t3)"
   ]
  },
  {
   "cell_type": "code",
   "execution_count": 36,
   "id": "6911d62c",
   "metadata": {},
   "outputs": [
    {
     "data": {
      "text/plain": [
       "False"
      ]
     },
     "execution_count": 36,
     "metadata": {},
     "output_type": "execute_result"
    }
   ],
   "source": [
    "3.56 in t3"
   ]
  },
  {
   "cell_type": "code",
   "execution_count": 39,
   "id": "c9f40f46",
   "metadata": {},
   "outputs": [
    {
     "data": {
      "text/plain": [
       "True"
      ]
     },
     "execution_count": 39,
     "metadata": {},
     "output_type": "execute_result"
    }
   ],
   "source": [
    "(1,2,3,4) in t3"
   ]
  },
  {
   "cell_type": "code",
   "execution_count": 31,
   "id": "a5d4dc71",
   "metadata": {},
   "outputs": [
    {
     "data": {
      "text/plain": [
       "((1, 2, 3, 4), [1, 2, 3, 4])"
      ]
     },
     "execution_count": 31,
     "metadata": {},
     "output_type": "execute_result"
    }
   ],
   "source": [
    "# List inside a tuple\n",
    "t4 = ((1,2,3,4),[1,2,3,4])\n",
    "t4"
   ]
  },
  {
   "cell_type": "code",
   "execution_count": 32,
   "id": "34c4a62d",
   "metadata": {},
   "outputs": [],
   "source": [
    "# Deleting tuple\n",
    "del t4"
   ]
  },
  {
   "cell_type": "code",
   "execution_count": null,
   "id": "64680054",
   "metadata": {},
   "outputs": [],
   "source": []
  },
  {
   "cell_type": "code",
   "execution_count": null,
   "id": "8bbc999b",
   "metadata": {},
   "outputs": [],
   "source": []
  }
 ],
 "metadata": {
  "kernelspec": {
   "display_name": "Python 3 (ipykernel)",
   "language": "python",
   "name": "python3"
  },
  "language_info": {
   "codemirror_mode": {
    "name": "ipython",
    "version": 3
   },
   "file_extension": ".py",
   "mimetype": "text/x-python",
   "name": "python",
   "nbconvert_exporter": "python",
   "pygments_lexer": "ipython3",
   "version": "3.9.7"
  }
 },
 "nbformat": 4,
 "nbformat_minor": 5
}
