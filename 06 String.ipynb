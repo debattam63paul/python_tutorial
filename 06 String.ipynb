{
 "cells": [
  {
   "cell_type": "code",
   "execution_count": 1,
   "id": "043c9add",
   "metadata": {},
   "outputs": [],
   "source": [
    "name = 'Data science Masters'"
   ]
  },
  {
   "cell_type": "code",
   "execution_count": 2,
   "id": "36239334",
   "metadata": {},
   "outputs": [
    {
     "data": {
      "text/plain": [
       "'dATA SCIENCE mASTERS'"
      ]
     },
     "execution_count": 2,
     "metadata": {},
     "output_type": "execute_result"
    }
   ],
   "source": [
    "name.swapcase() # Converts all the upper case to lower case and lower case to upper case"
   ]
  },
  {
   "cell_type": "code",
   "execution_count": 3,
   "id": "a11efea7",
   "metadata": {},
   "outputs": [
    {
     "data": {
      "text/plain": [
       "'Data Science Masters'"
      ]
     },
     "execution_count": 3,
     "metadata": {},
     "output_type": "execute_result"
    }
   ],
   "source": [
    "name.title() # First alphabet of every word will become capital"
   ]
  },
  {
   "cell_type": "code",
   "execution_count": 4,
   "id": "e380e4fe",
   "metadata": {},
   "outputs": [
    {
     "data": {
      "text/plain": [
       "'Data science masters'"
      ]
     },
     "execution_count": 4,
     "metadata": {},
     "output_type": "execute_result"
    }
   ],
   "source": [
    "name.capitalize() # Only first alphabet will be capital"
   ]
  },
  {
   "cell_type": "code",
   "execution_count": 5,
   "id": "56a176ff",
   "metadata": {},
   "outputs": [
    {
     "data": {
      "text/plain": [
       "'sretsaM ecneics ataD'"
      ]
     },
     "execution_count": 5,
     "metadata": {},
     "output_type": "execute_result"
    }
   ],
   "source": [
    "# Reversing a String\n",
    "name[::-1]"
   ]
  },
  {
   "cell_type": "code",
   "execution_count": 6,
   "id": "aa62ac24",
   "metadata": {},
   "outputs": [
    {
     "data": {
      "text/plain": [
       "'a b c'"
      ]
     },
     "execution_count": 6,
     "metadata": {},
     "output_type": "execute_result"
    }
   ],
   "source": [
    "\" \".join('abc')"
   ]
  },
  {
   "cell_type": "code",
   "execution_count": 9,
   "id": "02dfd281",
   "metadata": {},
   "outputs": [
    {
     "data": {
      "text/plain": [
       "'s r e t s a M   e c n e i c s   a t a D'"
      ]
     },
     "execution_count": 9,
     "metadata": {},
     "output_type": "execute_result"
    }
   ],
   "source": [
    "' '.join(reversed(name)) # Reversed is acting as an iterator, reversing one by one character using iteration"
   ]
  },
  {
   "cell_type": "code",
   "execution_count": 11,
   "id": "ebfbb509",
   "metadata": {},
   "outputs": [
    {
     "data": {
      "text/plain": [
       "['t', 'n', 'a']"
      ]
     },
     "execution_count": 11,
     "metadata": {},
     "output_type": "execute_result"
    }
   ],
   "source": [
    "# String to list typecasting\n",
    "list(reversed('ant'))"
   ]
  },
  {
   "cell_type": "code",
   "execution_count": 17,
   "id": "f756b4fa",
   "metadata": {},
   "outputs": [
    {
     "data": {
      "text/plain": [
       "'Debattam'"
      ]
     },
     "execution_count": 17,
     "metadata": {},
     "output_type": "execute_result"
    }
   ],
   "source": [
    "# Removing space from string \n",
    "a = ' Debattam '\n",
    "a.strip(' ') # Removing space\n",
    "# String is immutable so we cant delete any character, only remove space by this"
   ]
  },
  {
   "cell_type": "code",
   "execution_count": 14,
   "id": "d58dac94",
   "metadata": {},
   "outputs": [
    {
     "data": {
      "text/plain": [
       "'Debattam '"
      ]
     },
     "execution_count": 14,
     "metadata": {},
     "output_type": "execute_result"
    }
   ],
   "source": [
    "a.lstrip(' ') # Removing left space"
   ]
  },
  {
   "cell_type": "code",
   "execution_count": 15,
   "id": "d39beaf4",
   "metadata": {},
   "outputs": [
    {
     "data": {
      "text/plain": [
       "' Debattam'"
      ]
     },
     "execution_count": 15,
     "metadata": {},
     "output_type": "execute_result"
    }
   ],
   "source": [
    "a.rstrip(' ') # Removing right space"
   ]
  },
  {
   "cell_type": "code",
   "execution_count": 22,
   "id": "e785e14f",
   "metadata": {},
   "outputs": [
    {
     "data": {
      "text/plain": [
       "'Greetings from Debattam'"
      ]
     },
     "execution_count": 22,
     "metadata": {},
     "output_type": "execute_result"
    }
   ],
   "source": [
    "a = 'Greetings to Debattam'\n",
    "# Replacing 'to' to 'from', it will create new copied string and then replace, not replacing in real string\n",
    "b = a.replace('to','from')\n",
    "b"
   ]
  },
  {
   "cell_type": "code",
   "execution_count": 28,
   "id": "ea1835db",
   "metadata": {},
   "outputs": [
    {
     "data": {
      "text/plain": [
       "'Welcome to pwskills. Welcome to data science masters'"
      ]
     },
     "execution_count": 28,
     "metadata": {},
     "output_type": "execute_result"
    }
   ],
   "source": [
    "str1 = 'Welcome to pwskills. Welcome to dat cience masters'\n",
    "str1.replace('dat','data').replace('cience','science')"
   ]
  },
  {
   "cell_type": "code",
   "execution_count": 23,
   "id": "36f0a945",
   "metadata": {},
   "outputs": [
    {
     "name": "stdout",
     "output_type": "stream",
     "text": [
      "2064644807376\n",
      "2064645544816\n"
     ]
    }
   ],
   "source": [
    "# Checking new string is created or not\n",
    "print(id(a))\n",
    "print(id(b))"
   ]
  },
  {
   "cell_type": "code",
   "execution_count": 26,
   "id": "3f690069",
   "metadata": {},
   "outputs": [
    {
     "data": {
      "text/plain": [
       "'Hello\\nWorld'"
      ]
     },
     "execution_count": 26,
     "metadata": {},
     "output_type": "execute_result"
    }
   ],
   "source": [
    "'Hello\\nWorld'"
   ]
  },
  {
   "cell_type": "code",
   "execution_count": 25,
   "id": "7a1109e2",
   "metadata": {},
   "outputs": [
    {
     "data": {
      "text/plain": [
       "'Hello   World'"
      ]
     },
     "execution_count": 25,
     "metadata": {},
     "output_type": "execute_result"
    }
   ],
   "source": [
    "'Hello\\tWorld'.expandtabs()"
   ]
  },
  {
   "cell_type": "code",
   "execution_count": 30,
   "id": "d057f919",
   "metadata": {},
   "outputs": [
    {
     "data": {
      "text/plain": [
       "True"
      ]
     },
     "execution_count": 30,
     "metadata": {},
     "output_type": "execute_result"
    }
   ],
   "source": [
    "str1 = 'DEB'\n",
    "str1.isupper()"
   ]
  },
  {
   "cell_type": "code",
   "execution_count": 33,
   "id": "b7ba379e",
   "metadata": {},
   "outputs": [
    {
     "data": {
      "text/plain": [
       "True"
      ]
     },
     "execution_count": 33,
     "metadata": {},
     "output_type": "execute_result"
    }
   ],
   "source": [
    "str1 = ' '\n",
    "str1.isspace()"
   ]
  },
  {
   "cell_type": "code",
   "execution_count": 34,
   "id": "d2b9fa1e",
   "metadata": {},
   "outputs": [
    {
     "data": {
      "text/plain": [
       "True"
      ]
     },
     "execution_count": 34,
     "metadata": {},
     "output_type": "execute_result"
    }
   ],
   "source": [
    "str2 = 'DebattaM'\n",
    "str2.endswith('M')"
   ]
  },
  {
   "cell_type": "code",
   "execution_count": 35,
   "id": "b2720b85",
   "metadata": {},
   "outputs": [
    {
     "data": {
      "text/plain": [
       "False"
      ]
     },
     "execution_count": 35,
     "metadata": {},
     "output_type": "execute_result"
    }
   ],
   "source": [
    "str2.startswith('d')"
   ]
  },
  {
   "cell_type": "code",
   "execution_count": 36,
   "id": "44fa4de8",
   "metadata": {},
   "outputs": [
    {
     "data": {
      "text/plain": [
       "True"
      ]
     },
     "execution_count": 36,
     "metadata": {},
     "output_type": "execute_result"
    }
   ],
   "source": [
    "# Check if all the char in string are alphanumeric\n",
    "a='abcd1234'\n",
    "a.isalnum()"
   ]
  },
  {
   "cell_type": "code",
   "execution_count": 39,
   "id": "acd88e5b",
   "metadata": {},
   "outputs": [
    {
     "name": "stdout",
     "output_type": "stream",
     "text": [
      "8\n",
      "8\n"
     ]
    }
   ],
   "source": [
    "# Counting the number of characters in the strings\n",
    "print(len(str2))\n",
    "\n",
    "# Counting iteratively\n",
    "count = 0\n",
    "for i in str2:\n",
    "    count = count+1\n",
    "print(count)"
   ]
  },
  {
   "cell_type": "code",
   "execution_count": 40,
   "id": "3bfe09ba",
   "metadata": {},
   "outputs": [
    {
     "name": "stdout",
     "output_type": "stream",
     "text": [
      "D\n",
      "e\n",
      "b\n",
      "a\n",
      "t\n",
      "t\n",
      "a\n",
      "M\n"
     ]
    }
   ],
   "source": [
    "# Calling the character directly from the string\n",
    "for i in str2:\n",
    "    print(i)"
   ]
  },
  {
   "cell_type": "code",
   "execution_count": 46,
   "id": "42cf1854",
   "metadata": {},
   "outputs": [
    {
     "name": "stdout",
     "output_type": "stream",
     "text": [
      "D\n",
      "e\n",
      "b\n",
      "a\n",
      "t\n",
      "t\n",
      "a\n",
      "M\n"
     ]
    }
   ],
   "source": [
    "# Calling the characters by its index from the string\n",
    "for i in range(len(str2)):\n",
    "    print(str2[i])"
   ]
  },
  {
   "cell_type": "code",
   "execution_count": 44,
   "id": "8a0bf460",
   "metadata": {},
   "outputs": [
    {
     "name": "stdout",
     "output_type": "stream",
     "text": [
      "M\n",
      "a\n",
      "t\n",
      "t\n",
      "a\n",
      "b\n",
      "e\n",
      "D\n"
     ]
    }
   ],
   "source": [
    "# Use string index to iterate string from reverse direction\n",
    "for i in range(len(str2)-1, -1, -1):\n",
    "    print(str2[i])"
   ]
  },
  {
   "cell_type": "code",
   "execution_count": 53,
   "id": "b400f0f6",
   "metadata": {},
   "outputs": [
    {
     "name": "stdout",
     "output_type": "stream",
     "text": [
      "e\n",
      "d\n",
      "c\n",
      "b\n",
      "a\n"
     ]
    }
   ],
   "source": [
    "name = 'abcde'\n",
    "i = len(name)-1\n",
    "while(i>=0):\n",
    "    print(name[i])\n",
    "    i = i-1"
   ]
  },
  {
   "cell_type": "code",
   "execution_count": 1,
   "id": "e2d76c72",
   "metadata": {},
   "outputs": [
    {
     "ename": "NameError",
     "evalue": "name 'vowels' is not defined",
     "output_type": "error",
     "traceback": [
      "\u001b[1;31m---------------------------------------------------------------------------\u001b[0m",
      "\u001b[1;31mNameError\u001b[0m                                 Traceback (most recent call last)",
      "\u001b[1;32mC:\\Users\\DEBATT~1\\AppData\\Local\\Temp/ipykernel_15684/489627187.py\u001b[0m in \u001b[0;36m<module>\u001b[1;34m\u001b[0m\n\u001b[0;32m      2\u001b[0m \u001b[0mname\u001b[0m \u001b[1;33m=\u001b[0m \u001b[1;34m'abcde'\u001b[0m\u001b[1;33m\u001b[0m\u001b[1;33m\u001b[0m\u001b[0m\n\u001b[0;32m      3\u001b[0m \u001b[1;32mfor\u001b[0m \u001b[0mi\u001b[0m \u001b[1;32min\u001b[0m \u001b[0mname\u001b[0m\u001b[1;33m:\u001b[0m\u001b[1;33m\u001b[0m\u001b[1;33m\u001b[0m\u001b[0m\n\u001b[1;32m----> 4\u001b[1;33m     \u001b[1;32mif\u001b[0m \u001b[0mi\u001b[0m \u001b[1;32min\u001b[0m \u001b[0mvowels\u001b[0m\u001b[1;33m:\u001b[0m\u001b[1;33m\u001b[0m\u001b[1;33m\u001b[0m\u001b[0m\n\u001b[0m\u001b[0;32m      5\u001b[0m         \u001b[0mprint\u001b[0m\u001b[1;33m(\u001b[0m\u001b[1;34m'{} is a vowel'\u001b[0m\u001b[1;33m.\u001b[0m\u001b[0mformat\u001b[0m\u001b[1;33m(\u001b[0m\u001b[0mi\u001b[0m\u001b[1;33m)\u001b[0m\u001b[1;33m)\u001b[0m\u001b[1;33m\u001b[0m\u001b[1;33m\u001b[0m\u001b[0m\n\u001b[0;32m      6\u001b[0m     \u001b[1;32melse\u001b[0m\u001b[1;33m:\u001b[0m\u001b[1;33m\u001b[0m\u001b[1;33m\u001b[0m\u001b[0m\n",
      "\u001b[1;31mNameError\u001b[0m: name 'vowels' is not defined"
     ]
    }
   ],
   "source": [
    "# Check vowel\n",
    "name = 'abcde'\n",
    "for i in name:\n",
    "    if i in vowels:\n",
    "        print('{} is a vowel'.format(i))\n",
    "    else:\n",
    "        print('{} is not a vowel'.format(i))\n"
   ]
  },
  {
   "cell_type": "code",
   "execution_count": null,
   "id": "0d2709be",
   "metadata": {},
   "outputs": [],
   "source": []
  }
 ],
 "metadata": {
  "kernelspec": {
   "display_name": "Python 3 (ipykernel)",
   "language": "python",
   "name": "python3"
  },
  "language_info": {
   "codemirror_mode": {
    "name": "ipython",
    "version": 3
   },
   "file_extension": ".py",
   "mimetype": "text/x-python",
   "name": "python",
   "nbconvert_exporter": "python",
   "pygments_lexer": "ipython3",
   "version": "3.9.7"
  }
 },
 "nbformat": 4,
 "nbformat_minor": 5
}
