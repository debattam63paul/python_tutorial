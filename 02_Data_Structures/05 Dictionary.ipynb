{
 "cells": [
  {
   "cell_type": "code",
   "execution_count": 1,
   "id": "697dae14",
   "metadata": {},
   "outputs": [
    {
     "data": {
      "text/plain": [
       "dict"
      ]
     },
     "execution_count": 1,
     "metadata": {},
     "output_type": "execute_result"
    }
   ],
   "source": [
    "d={}\n",
    "type(d)"
   ]
  },
  {
   "cell_type": "code",
   "execution_count": 2,
   "id": "ec712009",
   "metadata": {},
   "outputs": [
    {
     "name": "stdout",
     "output_type": "stream",
     "text": [
      "<class 'dict'>\n",
      "{'name': 'Debattam', 'gender': 'male', 'age': 22}\n"
     ]
    }
   ],
   "source": [
    "# Here data is stored in terms of key-value pairs\n",
    "d1 = {'name':'Debattam', 'gender':'male','age':22}\n",
    "print(type(d1))\n",
    "print(d1)"
   ]
  },
  {
   "cell_type": "code",
   "execution_count": 3,
   "id": "8abca0c2",
   "metadata": {},
   "outputs": [
    {
     "data": {
      "text/plain": [
       "{'name': 'debattam'}"
      ]
     },
     "execution_count": 3,
     "metadata": {},
     "output_type": "execute_result"
    }
   ],
   "source": [
    "# Key should be unique otherwise it will be updated with the newer value\n",
    "d2 = {'name':'deb', 'name':'debattam'}\n",
    "d2"
   ]
  },
  {
   "cell_type": "code",
   "execution_count": 4,
   "id": "72823764",
   "metadata": {},
   "outputs": [
    {
     "name": "stdout",
     "output_type": "stream",
     "text": [
      "{123: 'abc'}\n",
      "{123.45: 'abc'}\n",
      "{True: 'abc'}\n"
     ]
    }
   ],
   "source": [
    "# Key can be any datatypes but not any special characters\n",
    "d3 = {123:'abc'}\n",
    "print(d3)\n",
    "d3 = {123.45:'abc'}\n",
    "print(d3)\n",
    "d3 = {True:'abc'}\n",
    "print(d3)"
   ]
  },
  {
   "cell_type": "code",
   "execution_count": 6,
   "id": "2f8c217e",
   "metadata": {},
   "outputs": [
    {
     "name": "stdout",
     "output_type": "stream",
     "text": [
      "{(1, 2, 3): 'abc'}\n"
     ]
    }
   ],
   "source": [
    "# Only Tuple can be work as a key but not list and set and dictionary\n",
    "d3 = {(1,2,3):'abc'}\n",
    "print(d3)"
   ]
  },
  {
   "cell_type": "code",
   "execution_count": 40,
   "id": "b299ffb4",
   "metadata": {},
   "outputs": [
    {
     "name": "stdout",
     "output_type": "stream",
     "text": [
      "{'subject_name': ['math', 'science', 'geography']}\n",
      "{'key': (1, 2, 3, 4, 5)}\n",
      "{'key': {1, 2, 3, 4, 5}}\n",
      "{'employee': {'id': 123, 'name': 'deb', 'salary': 20000}}\n"
     ]
    }
   ],
   "source": [
    "# We can consider value as a list or tuple or set or dictionary\n",
    "d4 = {'subject_name': ['math','science','geography']}\n",
    "print(d4)\n",
    "\n",
    "d4 = {'key':(1,2,3,4,5)}\n",
    "print(d4)\n",
    "\n",
    "d4 = {'key':{1,2,3,4,5}}\n",
    "print(d4)\n",
    "\n",
    "d4 = {'employee':{'id':123, 'name':'deb', 'salary':20000}}  # nested dictionary\n",
    "print(d4)"
   ]
  },
  {
   "cell_type": "code",
   "execution_count": 16,
   "id": "039fd777",
   "metadata": {},
   "outputs": [
    {
     "data": {
      "text/plain": [
       "{'class': [9, 10, 11, 12],\n",
       " 'subject': ('math', 'science', 'history', 'geography'),\n",
       " 'teacher_name': {'jkr', 'mcm', 'nk', 'ph', 'tkd'},\n",
       " 'student_name': {1: 'deb', 2: 'raju', 3: 'ram', 4: 'shyam'}}"
      ]
     },
     "execution_count": 16,
     "metadata": {},
     "output_type": "execute_result"
    }
   ],
   "source": [
    "# Creating a dictionary having all the combinations\n",
    "dic = {'class':[9,10,11,12],\n",
    "       'subject':('math','science','history','geography'),\n",
    "       'teacher_name':{'tkd','jkr','mcm','nk','ph'},\n",
    "       'student_name':{1:'deb', 2:'raju', 3:'ram', 4:'shyam'}}\n",
    "dic"
   ]
  },
  {
   "cell_type": "code",
   "execution_count": 17,
   "id": "7b50ef0f",
   "metadata": {},
   "outputs": [
    {
     "data": {
      "text/plain": [
       "{'class': [9, 10, 11, 12],\n",
       " 'subject': ('math', 'science', 'history', 'geography'),\n",
       " 'teacher_name': {'jkr', 'mcm', 'nk', 'ph', 'tkd'},\n",
       " 'student_name': {1: 'deb', 2: 'raju', 3: 'ram', 4: 'shyam'},\n",
       " 'head_master': 'skm'}"
      ]
     },
     "execution_count": 17,
     "metadata": {},
     "output_type": "execute_result"
    }
   ],
   "source": [
    "# Adding new key-value\n",
    "dic['head_master']='skm'\n",
    "dic"
   ]
  },
  {
   "cell_type": "code",
   "execution_count": 18,
   "id": "2c9ca3f2",
   "metadata": {},
   "outputs": [
    {
     "data": {
      "text/plain": [
       "('math', 'science', 'history', 'geography')"
      ]
     },
     "execution_count": 18,
     "metadata": {},
     "output_type": "execute_result"
    }
   ],
   "source": [
    "# Extracting values by giving key-name\n",
    "dic['subject']"
   ]
  },
  {
   "cell_type": "code",
   "execution_count": 19,
   "id": "0114ef05",
   "metadata": {},
   "outputs": [
    {
     "data": {
      "text/plain": [
       "'SKM'"
      ]
     },
     "execution_count": 19,
     "metadata": {},
     "output_type": "execute_result"
    }
   ],
   "source": [
    "dic['head_master'].upper()"
   ]
  },
  {
   "cell_type": "code",
   "execution_count": 20,
   "id": "d53e7816",
   "metadata": {},
   "outputs": [
    {
     "data": {
      "text/plain": [
       "dict"
      ]
     },
     "execution_count": 20,
     "metadata": {},
     "output_type": "execute_result"
    }
   ],
   "source": [
    "type(dic['student_name'])"
   ]
  },
  {
   "cell_type": "code",
   "execution_count": 21,
   "id": "516c76aa",
   "metadata": {},
   "outputs": [
    {
     "data": {
      "text/plain": [
       "'shyam'"
      ]
     },
     "execution_count": 21,
     "metadata": {},
     "output_type": "execute_result"
    }
   ],
   "source": [
    "# Extracting value from nested dictionary\n",
    "dic['student_name'][4]"
   ]
  },
  {
   "cell_type": "code",
   "execution_count": 22,
   "id": "0b8471c7",
   "metadata": {},
   "outputs": [
    {
     "data": {
      "text/plain": [
       "{'class': [9, 10, 11, 12],\n",
       " 'subject': ('math', 'science', 'history', 'geography'),\n",
       " 'teacher_name': {'jkr', 'mcm', 'nk', 'ph', 'tkd'},\n",
       " 'student_name': {1: 'deb', 2: 'raju', 3: 'ram', 4: 'shyam'}}"
      ]
     },
     "execution_count": 22,
     "metadata": {},
     "output_type": "execute_result"
    }
   ],
   "source": [
    "# Deleting one key-value from dictionary\n",
    "del dic['head_master']\n",
    "dic"
   ]
  },
  {
   "cell_type": "code",
   "execution_count": 23,
   "id": "42ce1987",
   "metadata": {},
   "outputs": [
    {
     "data": {
      "text/plain": [
       "{}"
      ]
     },
     "execution_count": 23,
     "metadata": {},
     "output_type": "execute_result"
    }
   ],
   "source": [
    "# Deleting total dictionary\n",
    "d1.clear()\n",
    "d1"
   ]
  },
  {
   "cell_type": "code",
   "execution_count": 24,
   "id": "6e034eb0",
   "metadata": {},
   "outputs": [
    {
     "data": {
      "text/plain": [
       "4"
      ]
     },
     "execution_count": 24,
     "metadata": {},
     "output_type": "execute_result"
    }
   ],
   "source": [
    "# Finding the length of a dictionary\n",
    "len(dic)"
   ]
  },
  {
   "cell_type": "code",
   "execution_count": 25,
   "id": "644de91b",
   "metadata": {},
   "outputs": [
    {
     "data": {
      "text/plain": [
       "dict_keys(['class', 'subject', 'teacher_name', 'student_name'])"
      ]
     },
     "execution_count": 25,
     "metadata": {},
     "output_type": "execute_result"
    }
   ],
   "source": [
    "# Extracting all the keys\n",
    "dic.keys()"
   ]
  },
  {
   "cell_type": "code",
   "execution_count": 26,
   "id": "0486f7fa",
   "metadata": {},
   "outputs": [
    {
     "data": {
      "text/plain": [
       "dict_values([[9, 10, 11, 12], ('math', 'science', 'history', 'geography'), {'jkr', 'ph', 'nk', 'tkd', 'mcm'}, {1: 'deb', 2: 'raju', 3: 'ram', 4: 'shyam'}])"
      ]
     },
     "execution_count": 26,
     "metadata": {},
     "output_type": "execute_result"
    }
   ],
   "source": [
    "# Extracting all the values\n",
    "dic.values()"
   ]
  },
  {
   "cell_type": "code",
   "execution_count": 27,
   "id": "16319b57",
   "metadata": {},
   "outputs": [
    {
     "data": {
      "text/plain": [
       "dict_keys"
      ]
     },
     "execution_count": 27,
     "metadata": {},
     "output_type": "execute_result"
    }
   ],
   "source": [
    "type(dic.keys())"
   ]
  },
  {
   "cell_type": "code",
   "execution_count": 28,
   "id": "bca7bea3",
   "metadata": {},
   "outputs": [
    {
     "data": {
      "text/plain": [
       "['class', 'subject', 'teacher_name', 'student_name']"
      ]
     },
     "execution_count": 28,
     "metadata": {},
     "output_type": "execute_result"
    }
   ],
   "source": [
    "list(dic.keys())"
   ]
  },
  {
   "cell_type": "code",
   "execution_count": 29,
   "id": "e8b96d51",
   "metadata": {},
   "outputs": [
    {
     "data": {
      "text/plain": [
       "dict_items([('class', [9, 10, 11, 12]), ('subject', ('math', 'science', 'history', 'geography')), ('teacher_name', {'jkr', 'ph', 'nk', 'tkd', 'mcm'}), ('student_name', {1: 'deb', 2: 'raju', 3: 'ram', 4: 'shyam'})])"
      ]
     },
     "execution_count": 29,
     "metadata": {},
     "output_type": "execute_result"
    }
   ],
   "source": [
    "dic.items() # Shows key and value inside a tuple"
   ]
  },
  {
   "cell_type": "code",
   "execution_count": 30,
   "id": "2f6d16fd",
   "metadata": {},
   "outputs": [
    {
     "data": {
      "text/plain": [
       "[('class', [9, 10, 11, 12]),\n",
       " ('subject', ('math', 'science', 'history', 'geography')),\n",
       " ('teacher_name', {'jkr', 'mcm', 'nk', 'ph', 'tkd'}),\n",
       " ('student_name', {1: 'deb', 2: 'raju', 3: 'ram', 4: 'shyam'})]"
      ]
     },
     "execution_count": 30,
     "metadata": {},
     "output_type": "execute_result"
    }
   ],
   "source": [
    "list(dic.items())"
   ]
  },
  {
   "cell_type": "code",
   "execution_count": 31,
   "id": "163cc6b0",
   "metadata": {},
   "outputs": [
    {
     "data": {
      "text/plain": [
       "{'class': [9, 10, 11, 12],\n",
       " 'subject': ('math', 'science', 'history', 'geography'),\n",
       " 'teacher_name': {'jkr', 'mcm', 'nk', 'ph', 'tkd'},\n",
       " 'student_name': {1: 'deb', 2: 'raju', 3: 'ram', 4: 'shyam'}}"
      ]
     },
     "execution_count": 31,
     "metadata": {},
     "output_type": "execute_result"
    }
   ],
   "source": [
    "# Deep Copy\n",
    "d5 = dic.copy()\n",
    "d5\n",
    "# If i do some change in dic then d5 will not be effected. \n",
    "# Pointing different memory location"
   ]
  },
  {
   "cell_type": "code",
   "execution_count": 32,
   "id": "b7efb379",
   "metadata": {},
   "outputs": [
    {
     "data": {
      "text/plain": [
       "{'class': [9, 10, 11, 12],\n",
       " 'subject': ('math', 'science', 'history', 'geography'),\n",
       " 'teacher_name': {'jkr', 'mcm', 'nk', 'ph', 'tkd'},\n",
       " 'student_name': {1: 'deb', 2: 'raju', 3: 'ram', 4: 'shyam'}}"
      ]
     },
     "execution_count": 32,
     "metadata": {},
     "output_type": "execute_result"
    }
   ],
   "source": [
    "# Shallow Copy\n",
    "d6 = dic\n",
    "d6\n",
    "# If i do some change in dic then d6 will be effected.\n",
    "# Pointing same memory location but using different variable name"
   ]
  },
  {
   "cell_type": "code",
   "execution_count": 41,
   "id": "86e19381",
   "metadata": {},
   "outputs": [
    {
     "data": {
      "text/plain": [
       "{'employee': {'id': 123, 'name': 'deb', 'salary': 20000}}"
      ]
     },
     "execution_count": 41,
     "metadata": {},
     "output_type": "execute_result"
    }
   ],
   "source": [
    "d4"
   ]
  },
  {
   "cell_type": "code",
   "execution_count": 42,
   "id": "c26c5c91",
   "metadata": {},
   "outputs": [
    {
     "data": {
      "text/plain": [
       "{'id': 123, 'name': 'deb', 'salary': 20000}"
      ]
     },
     "execution_count": 42,
     "metadata": {},
     "output_type": "execute_result"
    }
   ],
   "source": [
    "d4.pop('employee') # pop will remove that particular key with value and showing that particular value"
   ]
  },
  {
   "cell_type": "code",
   "execution_count": 43,
   "id": "4e9fe2e2",
   "metadata": {},
   "outputs": [
    {
     "data": {
      "text/plain": [
       "{}"
      ]
     },
     "execution_count": 43,
     "metadata": {},
     "output_type": "execute_result"
    }
   ],
   "source": [
    "d4"
   ]
  },
  {
   "cell_type": "code",
   "execution_count": 44,
   "id": "37f259b7",
   "metadata": {},
   "outputs": [
    {
     "data": {
      "text/plain": [
       "{1: ('a', 'b', 'c'), 2: ('a', 'b', 'c'), 3: ('a', 'b', 'c')}"
      ]
     },
     "execution_count": 44,
     "metadata": {},
     "output_type": "execute_result"
    }
   ],
   "source": [
    "# We can iterate and store same values in every keys in this way\n",
    "d.fromkeys((1,2,3),('a','b','c'))"
   ]
  },
  {
   "cell_type": "code",
   "execution_count": 50,
   "id": "a241f57f",
   "metadata": {},
   "outputs": [
    {
     "data": {
      "text/plain": [
       "({'key1': 'value1', 'key2': 'value2'}, {'key2': 'value2', 'key3': 'value3'})"
      ]
     },
     "execution_count": 50,
     "metadata": {},
     "output_type": "execute_result"
    }
   ],
   "source": [
    "# We can store dictionaries inside a tuple\n",
    "d7 = {'key1':'value1', 'key2':'value2'}\n",
    "d8 = {'key2':'value2', 'key3':'value3'}\n",
    "(d7,d8)"
   ]
  },
  {
   "cell_type": "code",
   "execution_count": 51,
   "id": "62d0f911",
   "metadata": {},
   "outputs": [
    {
     "data": {
      "text/plain": [
       "{'key1': 'value1', 'key2': 'value2', 'key3': 'value3'}"
      ]
     },
     "execution_count": 51,
     "metadata": {},
     "output_type": "execute_result"
    }
   ],
   "source": [
    "d7.update(d8) # All the unique keys from d8 are copied and pasted inside d7\n",
    "d7"
   ]
  },
  {
   "cell_type": "code",
   "execution_count": 52,
   "id": "b4c874ed",
   "metadata": {},
   "outputs": [
    {
     "data": {
      "text/plain": [
       "'value2'"
      ]
     },
     "execution_count": 52,
     "metadata": {},
     "output_type": "execute_result"
    }
   ],
   "source": [
    "d7.get('key2') # It shows the corresponding value from given key"
   ]
  },
  {
   "cell_type": "markdown",
   "id": "d525bfd8",
   "metadata": {},
   "source": [
    "Dictionary Comprehensions"
   ]
  },
  {
   "cell_type": "code",
   "execution_count": 58,
   "id": "772ab2e0",
   "metadata": {},
   "outputs": [
    {
     "data": {
      "text/plain": [
       "{1: 1, 2: 4, 3: 9, 4: 16, 5: 25, 6: 36, 7: 49, 8: 64, 9: 81, 10: 100}"
      ]
     },
     "execution_count": 58,
     "metadata": {},
     "output_type": "execute_result"
    }
   ],
   "source": [
    "# Create a dictionary where keys are 1-10 and corresponding value is square of that key\n",
    "d10 = {i:i**2 for i in range(1,11)}\n",
    "d10"
   ]
  },
  {
   "cell_type": "code",
   "execution_count": 59,
   "id": "3214bb10",
   "metadata": {},
   "outputs": [
    {
     "name": "stdout",
     "output_type": "stream",
     "text": [
      "4\n",
      "16\n",
      "36\n",
      "64\n",
      "100\n"
     ]
    }
   ],
   "source": [
    "# Extract only those values whose keys are even number\n",
    "for i in d10.keys():\n",
    "    if i%2 == 0:\n",
    "        print(d10[i])"
   ]
  },
  {
   "cell_type": "code",
   "execution_count": 55,
   "id": "2da8de2b",
   "metadata": {},
   "outputs": [
    {
     "data": {
      "text/plain": [
       "{'class': [9, 10, 11, 12],\n",
       " 'subject': ('math', 'science', 'history', 'geography'),\n",
       " 'teacher_name': {'jkr', 'mcm', 'nk', 'ph', 'tkd'},\n",
       " 'student_name': {1: 'deb', 2: 'raju', 3: 'ram', 4: 'shyam'}}"
      ]
     },
     "execution_count": 55,
     "metadata": {},
     "output_type": "execute_result"
    }
   ],
   "source": [
    "dic"
   ]
  },
  {
   "cell_type": "code",
   "execution_count": 60,
   "id": "2aeef870",
   "metadata": {},
   "outputs": [
    {
     "data": {
      "text/plain": [
       "True"
      ]
     },
     "execution_count": 60,
     "metadata": {},
     "output_type": "execute_result"
    }
   ],
   "source": [
    "# Check teacher_name is available in dic or not\n",
    "'teacher_name' in dic"
   ]
  },
  {
   "cell_type": "code",
   "execution_count": null,
   "id": "4cd5d0d9",
   "metadata": {},
   "outputs": [],
   "source": []
  }
 ],
 "metadata": {
  "kernelspec": {
   "display_name": "Python 3 (ipykernel)",
   "language": "python",
   "name": "python3"
  },
  "language_info": {
   "codemirror_mode": {
    "name": "ipython",
    "version": 3
   },
   "file_extension": ".py",
   "mimetype": "text/x-python",
   "name": "python",
   "nbconvert_exporter": "python",
   "pygments_lexer": "ipython3",
   "version": "3.9.7"
  }
 },
 "nbformat": 4,
 "nbformat_minor": 5
}
