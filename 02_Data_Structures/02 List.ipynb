{
 "cells": [
  {
   "cell_type": "markdown",
   "id": "b23f3d4b",
   "metadata": {},
   "source": [
    "List is an ordered collection of elements with any datatypes"
   ]
  },
  {
   "cell_type": "code",
   "execution_count": 1,
   "id": "075bff99",
   "metadata": {},
   "outputs": [
    {
     "data": {
      "text/plain": [
       "list"
      ]
     },
     "execution_count": 1,
     "metadata": {},
     "output_type": "execute_result"
    }
   ],
   "source": [
    "type([])"
   ]
  },
  {
   "cell_type": "code",
   "execution_count": 2,
   "id": "84c71208",
   "metadata": {},
   "outputs": [
    {
     "data": {
      "text/plain": [
       "['deb', True, 12, (3+5j), 36.8]"
      ]
     },
     "execution_count": 2,
     "metadata": {},
     "output_type": "execute_result"
    }
   ],
   "source": [
    "list(['deb',True,12,3+5j,36.8])"
   ]
  },
  {
   "cell_type": "code",
   "execution_count": 3,
   "id": "63d1f3cf",
   "metadata": {},
   "outputs": [
    {
     "data": {
      "text/plain": [
       "['D', 'e', 'b', 'a', 't', 't', 'a', 'm']"
      ]
     },
     "execution_count": 3,
     "metadata": {},
     "output_type": "execute_result"
    }
   ],
   "source": [
    "str1 = 'Debattam'\n",
    "list(str1)"
   ]
  },
  {
   "cell_type": "code",
   "execution_count": 23,
   "id": "922f6e51",
   "metadata": {},
   "outputs": [
    {
     "data": {
      "text/plain": [
       "['Welcome', 'to', 'Jupiter', 'Notebook']"
      ]
     },
     "execution_count": 23,
     "metadata": {},
     "output_type": "execute_result"
    }
   ],
   "source": [
    "str2 = 'Welcome to Jupiter Notebook'\n",
    "list1 = str2.split(' ') # Gives list\n",
    "list1"
   ]
  },
  {
   "cell_type": "code",
   "execution_count": 12,
   "id": "121b0820",
   "metadata": {},
   "outputs": [
    {
     "data": {
      "text/plain": [
       "'Jupiter'"
      ]
     },
     "execution_count": 12,
     "metadata": {},
     "output_type": "execute_result"
    }
   ],
   "source": [
    "list1[2]"
   ]
  },
  {
   "cell_type": "code",
   "execution_count": 19,
   "id": "cd4e7d2a",
   "metadata": {},
   "outputs": [
    {
     "data": {
      "text/plain": [
       "['to', 'Jupiter', 'Notebook']"
      ]
     },
     "execution_count": 19,
     "metadata": {},
     "output_type": "execute_result"
    }
   ],
   "source": [
    "list1[1:] # Picking from 1 position to all"
   ]
  },
  {
   "cell_type": "code",
   "execution_count": 25,
   "id": "ca873c08",
   "metadata": {},
   "outputs": [
    {
     "data": {
      "text/plain": [
       "['Welcome', 'to']"
      ]
     },
     "execution_count": 25,
     "metadata": {},
     "output_type": "execute_result"
    }
   ],
   "source": [
    "list1[:2] # Picking all upto 2nd position without 2nd element"
   ]
  },
  {
   "cell_type": "code",
   "execution_count": 33,
   "id": "a7cfb939",
   "metadata": {},
   "outputs": [
    {
     "data": {
      "text/plain": [
       "['Notebook', 'Jupiter', 'to', 'Welcome']"
      ]
     },
     "execution_count": 33,
     "metadata": {},
     "output_type": "execute_result"
    }
   ],
   "source": [
    "list1[::-1] # Picking all from backside with 1 step"
   ]
  },
  {
   "cell_type": "code",
   "execution_count": 34,
   "id": "d43580f2",
   "metadata": {},
   "outputs": [
    {
     "data": {
      "text/plain": [
       "['Welcome', 'to', 'Jupiter', 'Notebook']"
      ]
     },
     "execution_count": 34,
     "metadata": {},
     "output_type": "execute_result"
    }
   ],
   "source": [
    "list1[-4::] # Picking from -4 position to all"
   ]
  },
  {
   "cell_type": "code",
   "execution_count": 40,
   "id": "518b1ab3",
   "metadata": {},
   "outputs": [
    {
     "data": {
      "text/plain": [
       "['Welcome', 'to', 'Jupiter']"
      ]
     },
     "execution_count": 40,
     "metadata": {},
     "output_type": "execute_result"
    }
   ],
   "source": [
    "list1[-4:-1] # Picking from -4 position to -1 position"
   ]
  },
  {
   "cell_type": "code",
   "execution_count": 45,
   "id": "6a571d2a",
   "metadata": {},
   "outputs": [
    {
     "data": {
      "text/plain": [
       "['Welcome']"
      ]
     },
     "execution_count": 45,
     "metadata": {},
     "output_type": "execute_result"
    }
   ],
   "source": [
    "list1[-4::-1]"
   ]
  },
  {
   "cell_type": "code",
   "execution_count": 46,
   "id": "e6d9f329",
   "metadata": {},
   "outputs": [
    {
     "data": {
      "text/plain": [
       "['Greetings', 'to', 'Jupiter', 'Notebook']"
      ]
     },
     "execution_count": 46,
     "metadata": {},
     "output_type": "execute_result"
    }
   ],
   "source": [
    "# Checking Mutability\n",
    "list1[0] = 'Greetings'\n",
    "list1"
   ]
  },
  {
   "cell_type": "code",
   "execution_count": 51,
   "id": "acdf8787",
   "metadata": {},
   "outputs": [
    {
     "data": {
      "text/plain": [
       "['Greetings', 'to', 'Jupiter', 'Notebook', 'new element', ['Multinested List']]"
      ]
     },
     "execution_count": 51,
     "metadata": {},
     "output_type": "execute_result"
    }
   ],
   "source": [
    "# Concatenate list\n",
    "list2 = list1 + ['new element'] + [['Multinested List']]\n",
    "list2"
   ]
  },
  {
   "cell_type": "code",
   "execution_count": 52,
   "id": "f71d4a49",
   "metadata": {},
   "outputs": [
    {
     "data": {
      "text/plain": [
       "'Multinested List'"
      ]
     },
     "execution_count": 52,
     "metadata": {},
     "output_type": "execute_result"
    }
   ],
   "source": [
    "# Indexing of multi-nested list\n",
    "list2[-1][0]"
   ]
  },
  {
   "cell_type": "code",
   "execution_count": 53,
   "id": "b02a8f69",
   "metadata": {},
   "outputs": [
    {
     "data": {
      "text/plain": [
       "['Greetings',\n",
       " 'to',\n",
       " 'Jupiter',\n",
       " 'Notebook',\n",
       " 'Greetings',\n",
       " 'to',\n",
       " 'Jupiter',\n",
       " 'Notebook']"
      ]
     },
     "execution_count": 53,
     "metadata": {},
     "output_type": "execute_result"
    }
   ],
   "source": [
    "list1 * 2 # All the elements repeated two times"
   ]
  },
  {
   "cell_type": "code",
   "execution_count": 54,
   "id": "5781f05e",
   "metadata": {},
   "outputs": [
    {
     "data": {
      "text/plain": [
       "['Greetings', 'to', 'Jupiter', 'Notebook']"
      ]
     },
     "execution_count": 54,
     "metadata": {},
     "output_type": "execute_result"
    }
   ],
   "source": [
    "list1"
   ]
  },
  {
   "cell_type": "code",
   "execution_count": 55,
   "id": "8ca02187",
   "metadata": {},
   "outputs": [
    {
     "data": {
      "text/plain": [
       "True"
      ]
     },
     "execution_count": 55,
     "metadata": {},
     "output_type": "execute_result"
    }
   ],
   "source": [
    "'Jupiter' in list1"
   ]
  },
  {
   "cell_type": "code",
   "execution_count": 63,
   "id": "8c84af17",
   "metadata": {},
   "outputs": [],
   "source": [
    "list1 = ['zebra','monkey','donkey','lion']\n",
    "list2 = [5,6,2,9,5,8,6]"
   ]
  },
  {
   "cell_type": "code",
   "execution_count": 57,
   "id": "ab3dea21",
   "metadata": {},
   "outputs": [
    {
     "data": {
      "text/plain": [
       "'zebra'"
      ]
     },
     "execution_count": 57,
     "metadata": {},
     "output_type": "execute_result"
    }
   ],
   "source": [
    "max(list1) # Find maximum or minimum based on ASCII value"
   ]
  },
  {
   "cell_type": "code",
   "execution_count": 58,
   "id": "7c716bcb",
   "metadata": {},
   "outputs": [
    {
     "data": {
      "text/plain": [
       "9"
      ]
     },
     "execution_count": 58,
     "metadata": {},
     "output_type": "execute_result"
    }
   ],
   "source": [
    "max(list2)"
   ]
  },
  {
   "cell_type": "code",
   "execution_count": 59,
   "id": "17754837",
   "metadata": {},
   "outputs": [
    {
     "data": {
      "text/plain": [
       "'donkey'"
      ]
     },
     "execution_count": 59,
     "metadata": {},
     "output_type": "execute_result"
    }
   ],
   "source": [
    "min(list1)"
   ]
  },
  {
   "cell_type": "code",
   "execution_count": 60,
   "id": "f5d776ee",
   "metadata": {},
   "outputs": [
    {
     "data": {
      "text/plain": [
       "2"
      ]
     },
     "execution_count": 60,
     "metadata": {},
     "output_type": "execute_result"
    }
   ],
   "source": [
    "min(list2)"
   ]
  },
  {
   "cell_type": "code",
   "execution_count": 64,
   "id": "bede52c5",
   "metadata": {},
   "outputs": [
    {
     "data": {
      "text/plain": [
       "['zebra', 'monkey', 'donkey', 'lion', [5, 6, 2, 9, 5, 8, 6]]"
      ]
     },
     "execution_count": 64,
     "metadata": {},
     "output_type": "execute_result"
    }
   ],
   "source": [
    "list1.append(list2) # It is an inplace operation, append something at last\n",
    "list1"
   ]
  },
  {
   "cell_type": "code",
   "execution_count": 65,
   "id": "992f05e5",
   "metadata": {},
   "outputs": [
    {
     "data": {
      "text/plain": [
       "['zebra', 'monkey', 'donkey', 'lion']"
      ]
     },
     "execution_count": 65,
     "metadata": {},
     "output_type": "execute_result"
    }
   ],
   "source": [
    "list1.pop() # Inplace operation, by-default removes last element and also shows which element is deleted\n",
    "list1"
   ]
  },
  {
   "cell_type": "code",
   "execution_count": 66,
   "id": "f641ab56",
   "metadata": {},
   "outputs": [
    {
     "data": {
      "text/plain": [
       "['zebra', 'monkey', 'lion']"
      ]
     },
     "execution_count": 66,
     "metadata": {},
     "output_type": "execute_result"
    }
   ],
   "source": [
    "list1.pop(2)\n",
    "list1"
   ]
  },
  {
   "cell_type": "code",
   "execution_count": 67,
   "id": "de1fcaaa",
   "metadata": {},
   "outputs": [
    {
     "data": {
      "text/plain": [
       "['e', 'd', 'c', 'b', 'a']"
      ]
     },
     "execution_count": 67,
     "metadata": {},
     "output_type": "execute_result"
    }
   ],
   "source": [
    "new_list = ['a','b','c','d','e']\n",
    "new_list.reverse()  # Inplace operation\n",
    "new_list"
   ]
  },
  {
   "cell_type": "code",
   "execution_count": 70,
   "id": "e19865a5",
   "metadata": {},
   "outputs": [
    {
     "data": {
      "text/plain": [
       "['a', 'b', 'c', 'd', 'e']"
      ]
     },
     "execution_count": 70,
     "metadata": {},
     "output_type": "execute_result"
    }
   ],
   "source": [
    "new_list.sort(reverse=False) # Inplace operation, ascending order\n",
    "new_list"
   ]
  },
  {
   "cell_type": "code",
   "execution_count": 71,
   "id": "d6e49d16",
   "metadata": {},
   "outputs": [
    {
     "data": {
      "text/plain": [
       "['zebra', 'monkey', 'lion', 5, 6, 2, 9, 5, 8, 6]"
      ]
     },
     "execution_count": 71,
     "metadata": {},
     "output_type": "execute_result"
    }
   ],
   "source": [
    "list1.extend(list2) # It is not making nested list as append function\n",
    "list1"
   ]
  },
  {
   "cell_type": "code",
   "execution_count": 72,
   "id": "6b20d433",
   "metadata": {},
   "outputs": [
    {
     "data": {
      "text/plain": [
       "[[1, 2, 3], [4, 5, 6], [7, 8, 9]]"
      ]
     },
     "execution_count": 72,
     "metadata": {},
     "output_type": "execute_result"
    }
   ],
   "source": [
    "list1 = [1,2,3]\n",
    "list2 = [4,5,6]\n",
    "list3 = [7,8,9]\n",
    "\n",
    "matrix = [list1,list2,list3]\n",
    "matrix"
   ]
  },
  {
   "cell_type": "code",
   "execution_count": 73,
   "id": "e2b997ca",
   "metadata": {},
   "outputs": [
    {
     "data": {
      "text/plain": [
       "5"
      ]
     },
     "execution_count": 73,
     "metadata": {},
     "output_type": "execute_result"
    }
   ],
   "source": [
    "matrix[1][1]"
   ]
  },
  {
   "cell_type": "code",
   "execution_count": 74,
   "id": "e5a295e7",
   "metadata": {},
   "outputs": [
    {
     "data": {
      "text/plain": [
       "[8, 9]"
      ]
     },
     "execution_count": 74,
     "metadata": {},
     "output_type": "execute_result"
    }
   ],
   "source": [
    "matrix[2][1:]"
   ]
  },
  {
   "cell_type": "code",
   "execution_count": 75,
   "id": "d7fde711",
   "metadata": {},
   "outputs": [
    {
     "data": {
      "text/plain": [
       "[0, 1, 2, 3, 4, 5, 6, 7, 8, 9, 10, 11, 12, 13, 14, 15, 16, 17, 18, 19]"
      ]
     },
     "execution_count": 75,
     "metadata": {},
     "output_type": "execute_result"
    }
   ],
   "source": [
    "# List comprehension\n",
    "[i for i in range(20)]"
   ]
  },
  {
   "cell_type": "code",
   "execution_count": 86,
   "id": "3830ee84",
   "metadata": {},
   "outputs": [
    {
     "data": {
      "text/plain": [
       "['Even', 'Odd', 'Even', 'Odd', 'Even', 'Odd', 'Even', 'Odd', 'Even', 'Odd']"
      ]
     },
     "execution_count": 86,
     "metadata": {},
     "output_type": "execute_result"
    }
   ],
   "source": [
    "['Even' if i%2 == 0 else 'Odd' for i in range(0,10)]"
   ]
  },
  {
   "cell_type": "code",
   "execution_count": 82,
   "id": "5f9ab5f7",
   "metadata": {},
   "outputs": [
    {
     "data": {
      "text/plain": [
       "[0, 2, 4, 6, 8, 10, 12, 14, 16, 18]"
      ]
     },
     "execution_count": 82,
     "metadata": {},
     "output_type": "execute_result"
    }
   ],
   "source": [
    "# Finding even numbers using list comprehension\n",
    "[i for i in range(20) if i%2==0]"
   ]
  },
  {
   "cell_type": "code",
   "execution_count": 85,
   "id": "44639058",
   "metadata": {},
   "outputs": [
    {
     "data": {
      "text/plain": [
       "12"
      ]
     },
     "execution_count": 85,
     "metadata": {},
     "output_type": "execute_result"
    }
   ],
   "source": [
    "# Finding sum of even and odd numbers from a given list using list comprehension\n",
    "list1 = [1,2,3,4,5,6]\n",
    "evensum = sum([i for i in list1 if i%2 == 0])\n",
    "oddsum = sum([i for i in list1 if i%2 == 1])\n",
    "evensum"
   ]
  },
  {
   "cell_type": "code",
   "execution_count": 87,
   "id": "cec96055",
   "metadata": {},
   "outputs": [
    {
     "data": {
      "text/plain": [
       "['a', 'b', 'c', 'd']"
      ]
     },
     "execution_count": 87,
     "metadata": {},
     "output_type": "execute_result"
    }
   ],
   "source": [
    "# Find the 1st element of all the words from given list\n",
    "words = ['apple','banana','chery','date']\n",
    "[word[0] for word in words]"
   ]
  },
  {
   "cell_type": "code",
   "execution_count": 4,
   "id": "eebe5c23",
   "metadata": {},
   "outputs": [
    {
     "data": {
      "text/plain": [
       "[1, 2, 3, 4, 5, 6, 7, 8, 9]"
      ]
     },
     "execution_count": 4,
     "metadata": {},
     "output_type": "execute_result"
    }
   ],
   "source": [
    "# Flatten a list of lists into a single list using list comprehension\n",
    "list1 = [[1,2,3],[4,5,6],[7,8,9]]\n",
    "[num for sublist in list1 for num in sublist]"
   ]
  },
  {
   "cell_type": "code",
   "execution_count": 5,
   "id": "aeae96c6",
   "metadata": {},
   "outputs": [],
   "source": [
    "# Problems\n",
    "# Create a list of only the prime numbers from a given list\n",
    "#  Create a list of all the possible combinations of 2 numbers from a given list"
   ]
  },
  {
   "cell_type": "code",
   "execution_count": null,
   "id": "9d6683df",
   "metadata": {},
   "outputs": [],
   "source": []
  }
 ],
 "metadata": {
  "kernelspec": {
   "display_name": "Python 3 (ipykernel)",
   "language": "python",
   "name": "python3"
  },
  "language_info": {
   "codemirror_mode": {
    "name": "ipython",
    "version": 3
   },
   "file_extension": ".py",
   "mimetype": "text/x-python",
   "name": "python",
   "nbconvert_exporter": "python",
   "pygments_lexer": "ipython3",
   "version": "3.9.7"
  }
 },
 "nbformat": 4,
 "nbformat_minor": 5
}
