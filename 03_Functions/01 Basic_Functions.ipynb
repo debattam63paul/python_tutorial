{
 "cells": [
  {
   "cell_type": "code",
   "execution_count": 1,
   "id": "4bae7cfa",
   "metadata": {},
   "outputs": [
    {
     "name": "stdout",
     "output_type": "stream",
     "text": [
      "Print is an inbuilt function\n"
     ]
    }
   ],
   "source": [
    "print('Print is an inbuilt function')"
   ]
  },
  {
   "cell_type": "code",
   "execution_count": 2,
   "id": "20a3defe",
   "metadata": {},
   "outputs": [],
   "source": [
    "# Structure of Creating own function\n",
    "def test():\n",
    "    pass"
   ]
  },
  {
   "cell_type": "code",
   "execution_count": 3,
   "id": "2be6ea60",
   "metadata": {},
   "outputs": [],
   "source": [
    "def test1():\n",
    "    print('This is my first function')    "
   ]
  },
  {
   "cell_type": "code",
   "execution_count": 4,
   "id": "d9681375",
   "metadata": {},
   "outputs": [
    {
     "name": "stdout",
     "output_type": "stream",
     "text": [
      "This is my first function\n"
     ]
    }
   ],
   "source": [
    "test1()"
   ]
  },
  {
   "cell_type": "code",
   "execution_count": 3,
   "id": "3fae60f1",
   "metadata": {},
   "outputs": [],
   "source": [
    "# Print is going to return nonetype so we cant do further operation like concatenate str with this function\n",
    "# Thatswhy to do some further operation with function we use return statement to return any datatype\n",
    "def test2():\n",
    "    return 'My name is '"
   ]
  },
  {
   "cell_type": "code",
   "execution_count": 4,
   "id": "d71289f3",
   "metadata": {},
   "outputs": [
    {
     "data": {
      "text/plain": [
       "'My name is Debattam'"
      ]
     },
     "execution_count": 4,
     "metadata": {},
     "output_type": "execute_result"
    }
   ],
   "source": [
    "test2() + 'Debattam'"
   ]
  },
  {
   "cell_type": "code",
   "execution_count": 5,
   "id": "2670df92",
   "metadata": {},
   "outputs": [
    {
     "data": {
      "text/plain": [
       "(12, 'abcd', 34.5, True)"
      ]
     },
     "execution_count": 5,
     "metadata": {},
     "output_type": "execute_result"
    }
   ],
   "source": [
    " def test3():\n",
    "    return 12,'abcd',34.5,True        # It always returns in a tuple\n",
    "test3()"
   ]
  },
  {
   "cell_type": "code",
   "execution_count": 8,
   "id": "83d4545c",
   "metadata": {},
   "outputs": [
    {
     "data": {
      "text/plain": [
       "'abcd'"
      ]
     },
     "execution_count": 8,
     "metadata": {},
     "output_type": "execute_result"
    }
   ],
   "source": [
    "test3()[1]"
   ]
  },
  {
   "cell_type": "code",
   "execution_count": 6,
   "id": "46f62bbc",
   "metadata": {},
   "outputs": [
    {
     "data": {
      "text/plain": [
       "(1, 2, 3, 4, 5)"
      ]
     },
     "execution_count": 6,
     "metadata": {},
     "output_type": "execute_result"
    }
   ],
   "source": [
    "a = 1,2,3,4,5\n",
    "a"
   ]
  },
  {
   "cell_type": "code",
   "execution_count": 7,
   "id": "a2cc8112",
   "metadata": {},
   "outputs": [
    {
     "data": {
      "text/plain": [
       "34.56"
      ]
     },
     "execution_count": 7,
     "metadata": {},
     "output_type": "execute_result"
    }
   ],
   "source": [
    "a,b,c,d = 1,2,34.56,True\n",
    "c"
   ]
  },
  {
   "cell_type": "code",
   "execution_count": 9,
   "id": "8eb4e604",
   "metadata": {},
   "outputs": [
    {
     "data": {
      "text/plain": [
       "34.5"
      ]
     },
     "execution_count": 9,
     "metadata": {},
     "output_type": "execute_result"
    }
   ],
   "source": [
    "a,b,c,d = test3()\n",
    "c"
   ]
  },
  {
   "cell_type": "code",
   "execution_count": 10,
   "id": "9b251ffd",
   "metadata": {},
   "outputs": [],
   "source": [
    "def test4():\n",
    "    a = 3*4 + 5\n",
    "    return a"
   ]
  },
  {
   "cell_type": "code",
   "execution_count": 11,
   "id": "f679aca9",
   "metadata": {},
   "outputs": [
    {
     "data": {
      "text/plain": [
       "17"
      ]
     },
     "execution_count": 11,
     "metadata": {},
     "output_type": "execute_result"
    }
   ],
   "source": [
    "test4()"
   ]
  },
  {
   "cell_type": "code",
   "execution_count": 12,
   "id": "1afeaf76",
   "metadata": {},
   "outputs": [
    {
     "data": {
      "text/plain": [
       "int"
      ]
     },
     "execution_count": 12,
     "metadata": {},
     "output_type": "execute_result"
    }
   ],
   "source": [
    "type(test4())"
   ]
  },
  {
   "cell_type": "code",
   "execution_count": 13,
   "id": "96748e96",
   "metadata": {},
   "outputs": [],
   "source": [
    "# passing data inside a function\n",
    "def test5(a,b):\n",
    "    c = a+b\n",
    "    return c"
   ]
  },
  {
   "cell_type": "code",
   "execution_count": 14,
   "id": "a792fbbd",
   "metadata": {},
   "outputs": [
    {
     "data": {
      "text/plain": [
       "11"
      ]
     },
     "execution_count": 14,
     "metadata": {},
     "output_type": "execute_result"
    }
   ],
   "source": [
    "test5(4,7)"
   ]
  },
  {
   "cell_type": "code",
   "execution_count": 15,
   "id": "4cbb61ce",
   "metadata": {},
   "outputs": [
    {
     "data": {
      "text/plain": [
       "'Debattam Paul'"
      ]
     },
     "execution_count": 15,
     "metadata": {},
     "output_type": "execute_result"
    }
   ],
   "source": [
    "test5('Debattam ','Paul')"
   ]
  },
  {
   "cell_type": "code",
   "execution_count": 16,
   "id": "66ecf274",
   "metadata": {},
   "outputs": [
    {
     "data": {
      "text/plain": [
       "[1, 2, 3, 4, 5, 6, 7, 8]"
      ]
     },
     "execution_count": 16,
     "metadata": {},
     "output_type": "execute_result"
    }
   ],
   "source": [
    "test5([1,2,3,4],[5,6,7,8])"
   ]
  },
  {
   "cell_type": "code",
   "execution_count": 19,
   "id": "518ed16d",
   "metadata": {},
   "outputs": [
    {
     "data": {
      "text/plain": [
       "'Debattam Paul'"
      ]
     },
     "execution_count": 19,
     "metadata": {},
     "output_type": "execute_result"
    }
   ],
   "source": [
    "test5(b='Paul',a='Debattam ')"
   ]
  },
  {
   "cell_type": "code",
   "execution_count": 35,
   "id": "b4648bd2",
   "metadata": {},
   "outputs": [],
   "source": [
    "# Problem - Create a function which takes list as input and gives all the numeric values out of it as an output.\n",
    "def numeric(a):\n",
    "    n = []\n",
    "    for i in a:\n",
    "        if(type(i) == list):\n",
    "            for j in i:\n",
    "                if(type(j) == int or type(j) == float):\n",
    "                    n.append(j)\n",
    "        else:\n",
    "            if(type(i) == int or type(i) == float):\n",
    "                n.append(i)\n",
    "    return n"
   ]
  },
  {
   "cell_type": "code",
   "execution_count": 36,
   "id": "c521809d",
   "metadata": {},
   "outputs": [
    {
     "data": {
      "text/plain": [
       "[1, 4.5, 5]"
      ]
     },
     "execution_count": 36,
     "metadata": {},
     "output_type": "execute_result"
    }
   ],
   "source": [
    "a = [1,True, 4.5, 5, 3+7j, 'abc']\n",
    "numeric(a)"
   ]
  },
  {
   "cell_type": "code",
   "execution_count": 38,
   "id": "e2e31346",
   "metadata": {},
   "outputs": [
    {
     "data": {
      "text/plain": [
       "[1, 3.6, 3.5, 12]"
      ]
     },
     "execution_count": 38,
     "metadata": {},
     "output_type": "execute_result"
    }
   ],
   "source": [
    "b = [1,3.6,[3.5,12,True],3+5j,False]\n",
    "numeric(b)"
   ]
  },
  {
   "cell_type": "code",
   "execution_count": 39,
   "id": "777e41ca",
   "metadata": {},
   "outputs": [],
   "source": [
    "def test6(a,b,c,d,e):\n",
    "    pass"
   ]
  },
  {
   "cell_type": "code",
   "execution_count": 40,
   "id": "7331565b",
   "metadata": {},
   "outputs": [],
   "source": [
    "test6(1,2,3,4,5)  # Here we cant give more than five arguments"
   ]
  },
  {
   "cell_type": "code",
   "execution_count": 42,
   "id": "de75c9b6",
   "metadata": {},
   "outputs": [
    {
     "data": {
      "text/plain": [
       "(1, 2, 3, [4, 5, 6], (7, 8, 9), 10, True, (5+7j))"
      ]
     },
     "execution_count": 42,
     "metadata": {},
     "output_type": "execute_result"
    }
   ],
   "source": [
    "def test6(*args):\n",
    "    return args\n",
    "test6(1,2,3,[4,5,6],(7,8,9),10, True, 5+7j) # Here we can give any number of arguments, any type of arguments"
   ]
  },
  {
   "cell_type": "code",
   "execution_count": 44,
   "id": "059234d7",
   "metadata": {},
   "outputs": [
    {
     "data": {
      "text/plain": [
       "(1, 2, 3, 4, 'debattam')"
      ]
     },
     "execution_count": 44,
     "metadata": {},
     "output_type": "execute_result"
    }
   ],
   "source": [
    "def test7(*deb,a):\n",
    "    return *deb,a\n",
    "\n",
    "test7(1,2,3,4, a='debattam')"
   ]
  },
  {
   "cell_type": "code",
   "execution_count": 45,
   "id": "fb6961ae",
   "metadata": {},
   "outputs": [],
   "source": [
    "# Problem - Store only lists into a list from given arguments into a function\n",
    "def store_list(*args):\n",
    "    n = []\n",
    "    for i in args:\n",
    "        if(type(i) == list):\n",
    "            n.append(i)\n",
    "    return n"
   ]
  },
  {
   "cell_type": "code",
   "execution_count": 46,
   "id": "829e3dfb",
   "metadata": {},
   "outputs": [
    {
     "data": {
      "text/plain": [
       "[[4, 5], [5, 6, 7, 8], [10]]"
      ]
     },
     "execution_count": 46,
     "metadata": {},
     "output_type": "execute_result"
    }
   ],
   "source": [
    "store_list(1,2,3,[4,5],(3,4,5),'abc',[5,6,7,8],True,3+7j,[10])"
   ]
  },
  {
   "cell_type": "code",
   "execution_count": 48,
   "id": "d2e4e0c7",
   "metadata": {},
   "outputs": [
    {
     "data": {
      "text/plain": [
       "{'a': 4, 'b': 4, 'c': 8, 'd': (1, 2, 3), 'e': ['abc', 3, 5]}"
      ]
     },
     "execution_count": 48,
     "metadata": {},
     "output_type": "execute_result"
    }
   ],
   "source": [
    "def test8(**kwargs):\n",
    "    return kwargs\n",
    "test8(a = 4, b = 4, c = 8, d = (1,2,3), e = ['abc',3,5])     # It returns arguments in terms of key-value pairs"
   ]
  },
  {
   "cell_type": "code",
   "execution_count": 56,
   "id": "ee52f9ba",
   "metadata": {},
   "outputs": [],
   "source": [
    "# Problem - Select those keys from given arguments into a function whose values are in list\n",
    "def test9(**kwargs):\n",
    "    key = []\n",
    "    value = []\n",
    "    for i in kwargs.keys():\n",
    "        if(type(kwargs[i]) == list):\n",
    "            key.append(i)\n",
    "            value.append(kwargs[i])\n",
    "    return key, value"
   ]
  },
  {
   "cell_type": "code",
   "execution_count": 59,
   "id": "776d9395",
   "metadata": {},
   "outputs": [
    {
     "data": {
      "text/plain": [
       "(['a', 'c', 'e'], [[4], [1, 2, 3, 4], ['abc', 3, 5]])"
      ]
     },
     "execution_count": 59,
     "metadata": {},
     "output_type": "execute_result"
    }
   ],
   "source": [
    "test9(a = [4], b = 4, c = [1,2,3,4], d = (1,2,3), e = ['abc',3,5])"
   ]
  },
  {
   "cell_type": "code",
   "execution_count": 60,
   "id": "29392bc3",
   "metadata": {},
   "outputs": [],
   "source": [
    "def test10(*args, **kwargs):\n",
    "    return args,kwargs"
   ]
  },
  {
   "cell_type": "code",
   "execution_count": 61,
   "id": "3474cd32",
   "metadata": {},
   "outputs": [
    {
     "data": {
      "text/plain": [
       "((1, 2, 3, 4, 5), {'a': 10, 'b': 20})"
      ]
     },
     "execution_count": 61,
     "metadata": {},
     "output_type": "execute_result"
    }
   ],
   "source": [
    "test10(1,2,3,4,5, a = 10, b = 20)   # only values are going to *arg and key-values are going to **kwargs autometically"
   ]
  },
  {
   "cell_type": "code",
   "execution_count": null,
   "id": "672e91ef",
   "metadata": {},
   "outputs": [],
   "source": []
  }
 ],
 "metadata": {
  "kernelspec": {
   "display_name": "Python 3 (ipykernel)",
   "language": "python",
   "name": "python3"
  },
  "language_info": {
   "codemirror_mode": {
    "name": "ipython",
    "version": 3
   },
   "file_extension": ".py",
   "mimetype": "text/x-python",
   "name": "python",
   "nbconvert_exporter": "python",
   "pygments_lexer": "ipython3",
   "version": "3.9.7"
  }
 },
 "nbformat": 4,
 "nbformat_minor": 5
}
