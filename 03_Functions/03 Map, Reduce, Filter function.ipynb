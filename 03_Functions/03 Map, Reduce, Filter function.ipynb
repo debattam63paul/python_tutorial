{
 "cells": [
  {
   "cell_type": "code",
   "execution_count": 1,
   "id": "fd8bd09b",
   "metadata": {},
   "outputs": [],
   "source": [
    "def square_list(list):\n",
    "    n = []\n",
    "    for i in list:\n",
    "        n.append(i*i)\n",
    "    return n"
   ]
  },
  {
   "cell_type": "code",
   "execution_count": 2,
   "id": "4f1a32a3",
   "metadata": {},
   "outputs": [
    {
     "data": {
      "text/plain": [
       "[1, 4, 9, 16, 25]"
      ]
     },
     "execution_count": 2,
     "metadata": {},
     "output_type": "execute_result"
    }
   ],
   "source": [
    "l=[1,2,3,4,5]\n",
    "square_list(l)"
   ]
  },
  {
   "cell_type": "code",
   "execution_count": null,
   "id": "c67159dd",
   "metadata": {},
   "outputs": [],
   "source": []
  },
  {
   "cell_type": "markdown",
   "id": "c15452ee",
   "metadata": {},
   "source": [
    "# Map"
   ]
  },
  {
   "cell_type": "markdown",
   "id": "1dfa4b16",
   "metadata": {},
   "source": [
    "Map is nothing but mapping each element iteratively by using a function, taking element as iterable"
   ]
  },
  {
   "cell_type": "code",
   "execution_count": 3,
   "id": "4ff71cd7",
   "metadata": {},
   "outputs": [
    {
     "data": {
      "text/plain": [
       "[1, 4, 9, 16, 25]"
      ]
     },
     "execution_count": 3,
     "metadata": {},
     "output_type": "execute_result"
    }
   ],
   "source": [
    "# Make square of a list using mapper function\n",
    "\n",
    "# Technique 1 - using external function\n",
    "def sq(x):\n",
    "    return x*x\n",
    "\n",
    "list(map(sq, l))"
   ]
  },
  {
   "cell_type": "code",
   "execution_count": 4,
   "id": "b7bdc9a1",
   "metadata": {},
   "outputs": [
    {
     "data": {
      "text/plain": [
       "[1, 4, 9, 16, 25]"
      ]
     },
     "execution_count": 4,
     "metadata": {},
     "output_type": "execute_result"
    }
   ],
   "source": [
    "# Technique 2 - using lambda function\n",
    "list(map(lambda x: x*x, l))"
   ]
  },
  {
   "cell_type": "code",
   "execution_count": 5,
   "id": "07f841bc",
   "metadata": {},
   "outputs": [
    {
     "data": {
      "text/plain": [
       "[7, 9, 11, 13, 15]"
      ]
     },
     "execution_count": 5,
     "metadata": {},
     "output_type": "execute_result"
    }
   ],
   "source": [
    "# Problem - Add the values from two lists by their indexes\n",
    "l1 = [1,2,3,4,5]\n",
    "l2 = [6,7,8,9,10]\n",
    "\n",
    "list(map(lambda x,y: x+y, l1,l2))"
   ]
  },
  {
   "cell_type": "code",
   "execution_count": 8,
   "id": "ca2b0fa1",
   "metadata": {},
   "outputs": [
    {
     "data": {
      "text/plain": [
       "['D', 'E', 'B', 'A', 'T', 'T', 'A', 'M']"
      ]
     },
     "execution_count": 8,
     "metadata": {},
     "output_type": "execute_result"
    }
   ],
   "source": [
    "# Problem - make all the alphabets uppercase from a string using map\n",
    "s = 'debattam'\n",
    "list(map(lambda x:x.upper(),s))"
   ]
  },
  {
   "cell_type": "markdown",
   "id": "56d3ddf7",
   "metadata": {},
   "source": [
    "# Reduce"
   ]
  },
  {
   "cell_type": "markdown",
   "id": "8917ff76",
   "metadata": {},
   "source": [
    "It takes 1st element as a function, 2nd element as iterable and do operation"
   ]
  },
  {
   "cell_type": "code",
   "execution_count": 9,
   "id": "27bf1ed7",
   "metadata": {},
   "outputs": [
    {
     "data": {
      "text/plain": [
       "15"
      ]
     },
     "execution_count": 9,
     "metadata": {},
     "output_type": "execute_result"
    }
   ],
   "source": [
    "from functools import reduce\n",
    "list1 = [1,2,3,4,5]\n",
    "reduce(lambda x,y: x+y, list1) # It does cumulative sum from the list\n",
    "# Note that if we give 3 parameters and find sum then it will not work\n",
    "# If we give empty list then also it will not work\n",
    "# If we give 1 element within the list then exceptionally it will work"
   ]
  },
  {
   "cell_type": "code",
   "execution_count": 10,
   "id": "57fbcbd3",
   "metadata": {},
   "outputs": [
    {
     "data": {
      "text/plain": [
       "8"
      ]
     },
     "execution_count": 10,
     "metadata": {},
     "output_type": "execute_result"
    }
   ],
   "source": [
    "# Problem- Find out maximum number from a list using reduce function\n",
    "list2 = [2,3,7,4,5,8,3]\n",
    "reduce(lambda x,y: x if x>y else y, list2)"
   ]
  },
  {
   "cell_type": "markdown",
   "id": "9a8cb776",
   "metadata": {},
   "source": [
    "# Filter"
   ]
  },
  {
   "cell_type": "markdown",
   "id": "c179e192",
   "metadata": {},
   "source": [
    "It filter the elements from list by given conditions within the function "
   ]
  },
  {
   "cell_type": "code",
   "execution_count": 12,
   "id": "62a54674",
   "metadata": {},
   "outputs": [
    {
     "data": {
      "text/plain": [
       "[3, 7, 5]"
      ]
     },
     "execution_count": 12,
     "metadata": {},
     "output_type": "execute_result"
    }
   ],
   "source": [
    "# Problem - Find odd numbers from the list using filter function\n",
    "list3 = [2,3,4,6,7,5,8]\n",
    "list(filter(lambda x: x%2 == 1, list3)) # storing object datatype into list"
   ]
  },
  {
   "cell_type": "code",
   "execution_count": 14,
   "id": "6bfbc551",
   "metadata": {},
   "outputs": [
    {
     "data": {
      "text/plain": [
       "['deb', 'de', 'd']"
      ]
     },
     "execution_count": 14,
     "metadata": {},
     "output_type": "execute_result"
    }
   ],
   "source": [
    "# Problem - Filter the elements from the list whose length is less than 4\n",
    "list4 = ['deb','de','deba','d','debattam']\n",
    "list(filter(lambda x: len(x)<4, list4))"
   ]
  },
  {
   "cell_type": "code",
   "execution_count": null,
   "id": "bc88d434",
   "metadata": {},
   "outputs": [],
   "source": []
  }
 ],
 "metadata": {
  "kernelspec": {
   "display_name": "Python 3 (ipykernel)",
   "language": "python",
   "name": "python3"
  },
  "language_info": {
   "codemirror_mode": {
    "name": "ipython",
    "version": 3
   },
   "file_extension": ".py",
   "mimetype": "text/x-python",
   "name": "python",
   "nbconvert_exporter": "python",
   "pygments_lexer": "ipython3",
   "version": "3.9.7"
  }
 },
 "nbformat": 4,
 "nbformat_minor": 5
}
