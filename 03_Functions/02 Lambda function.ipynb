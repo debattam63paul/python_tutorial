{
 "cells": [
  {
   "cell_type": "code",
   "execution_count": 1,
   "id": "fc4c4345",
   "metadata": {},
   "outputs": [],
   "source": [
    "# Find power of a number using simple function\n",
    "def test(n,p):\n",
    "    return n**p"
   ]
  },
  {
   "cell_type": "code",
   "execution_count": 2,
   "id": "8d4da5be",
   "metadata": {},
   "outputs": [
    {
     "data": {
      "text/plain": [
       "9"
      ]
     },
     "execution_count": 2,
     "metadata": {},
     "output_type": "execute_result"
    }
   ],
   "source": [
    "test(3,2)"
   ]
  },
  {
   "cell_type": "code",
   "execution_count": 3,
   "id": "e79fe51e",
   "metadata": {},
   "outputs": [],
   "source": [
    "# Find power of a number using lambda function\n",
    "a = lambda n,p : n**p\n",
    "# Note that lambda function itself has no name"
   ]
  },
  {
   "cell_type": "code",
   "execution_count": 4,
   "id": "d34816de",
   "metadata": {},
   "outputs": [
    {
     "data": {
      "text/plain": [
       "9"
      ]
     },
     "execution_count": 4,
     "metadata": {},
     "output_type": "execute_result"
    }
   ],
   "source": [
    "a(3,2)"
   ]
  },
  {
   "cell_type": "code",
   "execution_count": 5,
   "id": "f8d74a61",
   "metadata": {},
   "outputs": [],
   "source": [
    "add = lambda x,y: x+y"
   ]
  },
  {
   "cell_type": "code",
   "execution_count": 6,
   "id": "b12c13fa",
   "metadata": {},
   "outputs": [
    {
     "data": {
      "text/plain": [
       "18"
      ]
     },
     "execution_count": 6,
     "metadata": {},
     "output_type": "execute_result"
    }
   ],
   "source": [
    "add(9,9)"
   ]
  },
  {
   "cell_type": "code",
   "execution_count": 7,
   "id": "bd1b68ed",
   "metadata": {},
   "outputs": [],
   "source": [
    "cel_to_fer = lambda c: (9/5)*c +32"
   ]
  },
  {
   "cell_type": "code",
   "execution_count": 9,
   "id": "5e07410f",
   "metadata": {},
   "outputs": [
    {
     "data": {
      "text/plain": [
       "93.2"
      ]
     },
     "execution_count": 9,
     "metadata": {},
     "output_type": "execute_result"
    }
   ],
   "source": [
    "cel_to_fer(34)"
   ]
  },
  {
   "cell_type": "code",
   "execution_count": 10,
   "id": "3543f77d",
   "metadata": {},
   "outputs": [],
   "source": [
    "# Using lambda function find maximum of two numbers\n",
    "max_two = lambda x,y: x if x>y else y"
   ]
  },
  {
   "cell_type": "code",
   "execution_count": 12,
   "id": "f21e4365",
   "metadata": {},
   "outputs": [
    {
     "data": {
      "text/plain": [
       "10"
      ]
     },
     "execution_count": 12,
     "metadata": {},
     "output_type": "execute_result"
    }
   ],
   "source": [
    "max_two(9,10)"
   ]
  },
  {
   "cell_type": "code",
   "execution_count": 13,
   "id": "043fc88d",
   "metadata": {},
   "outputs": [],
   "source": [
    "# Find length of a string using lambda function\n",
    "len_str = lambda s: len(s)"
   ]
  },
  {
   "cell_type": "code",
   "execution_count": 14,
   "id": "c37672be",
   "metadata": {},
   "outputs": [
    {
     "data": {
      "text/plain": [
       "8"
      ]
     },
     "execution_count": 14,
     "metadata": {},
     "output_type": "execute_result"
    }
   ],
   "source": [
    "len_str('Debattam')"
   ]
  },
  {
   "cell_type": "code",
   "execution_count": null,
   "id": "228ecd1b",
   "metadata": {},
   "outputs": [],
   "source": []
  }
 ],
 "metadata": {
  "kernelspec": {
   "display_name": "Python 3 (ipykernel)",
   "language": "python",
   "name": "python3"
  },
  "language_info": {
   "codemirror_mode": {
    "name": "ipython",
    "version": 3
   },
   "file_extension": ".py",
   "mimetype": "text/x-python",
   "name": "python",
   "nbconvert_exporter": "python",
   "pygments_lexer": "ipython3",
   "version": "3.9.7"
  }
 },
 "nbformat": 4,
 "nbformat_minor": 5
}
