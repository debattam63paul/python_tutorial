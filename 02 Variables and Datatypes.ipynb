{
 "cells": [
  {
   "cell_type": "markdown",
   "id": "ceed35fa",
   "metadata": {},
   "source": [
    "# Printing Statement"
   ]
  },
  {
   "cell_type": "code",
   "execution_count": 1,
   "id": "5612ea64",
   "metadata": {},
   "outputs": [
    {
     "name": "stdout",
     "output_type": "stream",
     "text": [
      "Hello to a Programming World\n"
     ]
    }
   ],
   "source": [
    "print('Hello to a Programming World')"
   ]
  },
  {
   "cell_type": "markdown",
   "id": "0e83c430",
   "metadata": {},
   "source": [
    "# Variable and Datatypes "
   ]
  },
  {
   "cell_type": "raw",
   "id": "e4a9744d",
   "metadata": {},
   "source": [
    "What is Variable?\n",
    "--> Variable is nothing but a place where we can store data temporarily so that the system will be able to process it."
   ]
  },
  {
   "cell_type": "code",
   "execution_count": 2,
   "id": "566664da",
   "metadata": {},
   "outputs": [
    {
     "name": "stdout",
     "output_type": "stream",
     "text": [
      "10\n",
      "<class 'int'>\n"
     ]
    }
   ],
   "source": [
    "a = 10  # 10 is stored in memory with referrence to a, a is a variable\n",
    "print(a)\n",
    "print(type(a))  # python autometically understands that it is integer without giving any info"
   ]
  },
  {
   "cell_type": "code",
   "execution_count": 3,
   "id": "e96c6e60",
   "metadata": {},
   "outputs": [
    {
     "name": "stdout",
     "output_type": "stream",
     "text": [
      "<class 'float'>\n"
     ]
    }
   ],
   "source": [
    "b=4.56\n",
    "print(type(b))"
   ]
  },
  {
   "cell_type": "code",
   "execution_count": 9,
   "id": "559380ae",
   "metadata": {},
   "outputs": [
    {
     "name": "stdout",
     "output_type": "stream",
     "text": [
      "<class 'str'>\n"
     ]
    }
   ],
   "source": [
    "c = 'cat'\n",
    "print(type(c))"
   ]
  },
  {
   "cell_type": "code",
   "execution_count": 6,
   "id": "bd64c44c",
   "metadata": {},
   "outputs": [
    {
     "name": "stdout",
     "output_type": "stream",
     "text": [
      "True\n",
      "<class 'bool'>\n"
     ]
    }
   ],
   "source": [
    "d = True    # Numeric equivalent 1\n",
    "print(d)\n",
    "print(type(d))"
   ]
  },
  {
   "cell_type": "code",
   "execution_count": 7,
   "id": "de2c45f9",
   "metadata": {},
   "outputs": [
    {
     "name": "stdout",
     "output_type": "stream",
     "text": [
      "<class 'bool'>\n"
     ]
    }
   ],
   "source": [
    "d1 = False   # Numeric equivalent 0\n",
    "print(type(d1))"
   ]
  },
  {
   "cell_type": "code",
   "execution_count": 8,
   "id": "6c1b192b",
   "metadata": {},
   "outputs": [
    {
     "name": "stdout",
     "output_type": "stream",
     "text": [
      "1\n",
      "0\n"
     ]
    }
   ],
   "source": [
    "print(True - False)\n",
    "print(True*False)"
   ]
  },
  {
   "cell_type": "code",
   "execution_count": 11,
   "id": "55a144f8",
   "metadata": {},
   "outputs": [
    {
     "name": "stdout",
     "output_type": "stream",
     "text": [
      "<class 'complex'>\n",
      "3.0\n",
      "4.0\n"
     ]
    }
   ],
   "source": [
    "e = 3+4j  # only j is represented as imaginary number in python\n",
    "print(type(e))\n",
    "print(e.real)\n",
    "print(e.imag)"
   ]
  },
  {
   "cell_type": "raw",
   "id": "169bccac",
   "metadata": {},
   "source": [
    "*** we should not use any special case character to declear a variable\n"
   ]
  },
  {
   "cell_type": "code",
   "execution_count": 14,
   "id": "4464a8cb",
   "metadata": {},
   "outputs": [
    {
     "name": "stdout",
     "output_type": "stream",
     "text": [
      "35\n"
     ]
    }
   ],
   "source": [
    "_a = 35\n",
    "print(_a)"
   ]
  },
  {
   "cell_type": "code",
   "execution_count": 15,
   "id": "17b4b7ea",
   "metadata": {},
   "outputs": [
    {
     "name": "stdout",
     "output_type": "stream",
     "text": [
      "12\n"
     ]
    }
   ],
   "source": [
    "debattam = 12\n",
    "print(debattam)"
   ]
  },
  {
   "cell_type": "markdown",
   "id": "6de81fdb",
   "metadata": {},
   "source": [
    "# Typecasting"
   ]
  },
  {
   "cell_type": "code",
   "execution_count": 16,
   "id": "fc8903ef",
   "metadata": {},
   "outputs": [
    {
     "name": "stdout",
     "output_type": "stream",
     "text": [
      "deb10\n"
     ]
    }
   ],
   "source": [
    "a='deb'\n",
    "b=10\n",
    "# int and string datatype cant be concatenated together, typecasting needed \n",
    "print(a+str(b))"
   ]
  },
  {
   "cell_type": "code",
   "execution_count": 18,
   "id": "978c9ca7",
   "metadata": {},
   "outputs": [
    {
     "name": "stdout",
     "output_type": "stream",
     "text": [
      "Enter something: 45\n",
      "45\n",
      "<class 'str'>\n"
     ]
    }
   ],
   "source": [
    "b = input('Enter something: ') # Here all the given inputs are treated as a string\n",
    "print(b)\n",
    "print(type(b))"
   ]
  },
  {
   "cell_type": "code",
   "execution_count": 21,
   "id": "2439cc19",
   "metadata": {},
   "outputs": [
    {
     "name": "stdout",
     "output_type": "stream",
     "text": [
      "Enter number: 32\n",
      "32\n",
      "<class 'int'>\n"
     ]
    }
   ],
   "source": [
    "c = int(input('Enter number: ')) # Typecasting the user input from string to int\n",
    "print(c)\n",
    "print(type(c))"
   ]
  },
  {
   "cell_type": "code",
   "execution_count": null,
   "id": "49897a68",
   "metadata": {},
   "outputs": [],
   "source": []
  }
 ],
 "metadata": {
  "kernelspec": {
   "display_name": "Python 3 (ipykernel)",
   "language": "python",
   "name": "python3"
  },
  "language_info": {
   "codemirror_mode": {
    "name": "ipython",
    "version": 3
   },
   "file_extension": ".py",
   "mimetype": "text/x-python",
   "name": "python",
   "nbconvert_exporter": "python",
   "pygments_lexer": "ipython3",
   "version": "3.9.7"
  }
 },
 "nbformat": 4,
 "nbformat_minor": 5
}
