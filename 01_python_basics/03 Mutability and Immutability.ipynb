{
 "cells": [
  {
   "cell_type": "raw",
   "id": "6109068b",
   "metadata": {},
   "source": [
    "If we store a string into a variable, autometically a forward and backward indexing has given to every string elements and\n",
    "we can access them by using their index.\n",
    "Forward indexing -> 0 1 2 3\n",
    "Backward indexing -> -1 -2 -3 -4 "
   ]
  },
  {
   "cell_type": "code",
   "execution_count": 1,
   "id": "2b50dcd5",
   "metadata": {},
   "outputs": [
    {
     "name": "stdout",
     "output_type": "stream",
     "text": [
      "d\n",
      "d\n"
     ]
    }
   ],
   "source": [
    "s = 'abcde'\n",
    "print(s[3])\n",
    "print(s[-2])"
   ]
  },
  {
   "cell_type": "raw",
   "id": "4ff16b9c",
   "metadata": {},
   "source": [
    " ** What is list?\n",
    "--> List is a kind of a collection or datatype which is able to store all kind of datatypes all together\n",
    "Forward and backward indexing also applicable in list \n"
   ]
  },
  {
   "cell_type": "code",
   "execution_count": 5,
   "id": "52d34744",
   "metadata": {},
   "outputs": [
    {
     "name": "stdout",
     "output_type": "stream",
     "text": [
      "<class 'list'>\n",
      "debattam\n",
      "debattam\n"
     ]
    }
   ],
   "source": [
    "l = [1,3,7,'debattam', True, 4+7j]\n",
    "print(type(l))\n",
    "print(l[3])\n",
    "print(l[-3])"
   ]
  },
  {
   "cell_type": "markdown",
   "id": "8e4e3e49",
   "metadata": {},
   "source": [
    "# Mutability and Immutability"
   ]
  },
  {
   "cell_type": "raw",
   "id": "2c1e669e",
   "metadata": {},
   "source": [
    "** What is Mutability and Immutability?\n",
    "--> In case of list, we can replace any element by calling that particular index -> mutability\n",
    "    In case of string, we cant do so, to replace any element we have to redefine whole string -> Immutability\n",
    "so,\n",
    "list -> mutable object, \n",
    "string -> immutable object "
   ]
  },
  {
   "cell_type": "code",
   "execution_count": 6,
   "id": "7eceae13",
   "metadata": {},
   "outputs": [
    {
     "name": "stdout",
     "output_type": "stream",
     "text": [
      "[1, 3, 7, 'debattam', True, (4+7j)]\n",
      "[1, 3, 7, 'apple', True, (4+7j)]\n"
     ]
    }
   ],
   "source": [
    "print(l)\n",
    "l[3] = 'apple'\n",
    "print(l)"
   ]
  },
  {
   "cell_type": "raw",
   "id": "e1212a2d",
   "metadata": {},
   "source": [
    "In case of string s, to replace d with z, we cant do this --> s[3] = 'z' , we need to do s = 'abcze' "
   ]
  },
  {
   "cell_type": "code",
   "execution_count": 8,
   "id": "2633fe4e",
   "metadata": {},
   "outputs": [
    {
     "name": "stdout",
     "output_type": "stream",
     "text": [
      "abcde\n",
      "abcze\n"
     ]
    }
   ],
   "source": [
    "print(s)\n",
    "s='abcze'\n",
    "print(s)"
   ]
  },
  {
   "cell_type": "code",
   "execution_count": null,
   "id": "0f1cd2b3",
   "metadata": {},
   "outputs": [],
   "source": []
  }
 ],
 "metadata": {
  "kernelspec": {
   "display_name": "Python 3 (ipykernel)",
   "language": "python",
   "name": "python3"
  },
  "language_info": {
   "codemirror_mode": {
    "name": "ipython",
    "version": 3
   },
   "file_extension": ".py",
   "mimetype": "text/x-python",
   "name": "python",
   "nbconvert_exporter": "python",
   "pygments_lexer": "ipython3",
   "version": "3.9.7"
  }
 },
 "nbformat": 4,
 "nbformat_minor": 5
}
