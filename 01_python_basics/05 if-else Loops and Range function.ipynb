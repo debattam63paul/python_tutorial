{
 "cells": [
  {
   "cell_type": "markdown",
   "id": "577b9b1e",
   "metadata": {},
   "source": [
    "# If-Else Statement"
   ]
  },
  {
   "cell_type": "raw",
   "id": "9a415a28",
   "metadata": {},
   "source": [
    "** If-else statement to print a is greater than 10 when a>10 = True, otherwise print a is not greater than 10 "
   ]
  },
  {
   "cell_type": "code",
   "execution_count": 2,
   "id": "7a1e94e3",
   "metadata": {},
   "outputs": [
    {
     "name": "stdout",
     "output_type": "stream",
     "text": [
      "a is not greater than 10\n"
     ]
    }
   ],
   "source": [
    "a = 10\n",
    "if(a>10):     \n",
    "    print('a is greater than 10')\n",
    "else:\n",
    "    print('a is not greater than 10')\n",
    "    "
   ]
  },
  {
   "cell_type": "raw",
   "id": "d3e124de",
   "metadata": {},
   "source": [
    "** Indentation is very much important because in other programming language curly bracket is used for\n",
    "indentation but here semi-colon and space is used, so it is mandatory "
   ]
  },
  {
   "cell_type": "code",
   "execution_count": 3,
   "id": "18edce19",
   "metadata": {},
   "outputs": [
    {
     "name": "stdout",
     "output_type": "stream",
     "text": [
      "a is less than or equal to 10\n"
     ]
    }
   ],
   "source": [
    "# When if or elif anyone condition is satisfied then compiler will not go to the else condition, see this code\n",
    "a = 4\n",
    "if(a>10):     \n",
    "    print('a is greater than 10')\n",
    "elif(a<=10):\n",
    "    print('a is less than or equal to 10')\n",
    "else:\n",
    "    print('a is less than 10')"
   ]
  },
  {
   "cell_type": "code",
   "execution_count": 4,
   "id": "eeb89e48",
   "metadata": {},
   "outputs": [
    {
     "name": "stdout",
     "output_type": "stream",
     "text": [
      "Enter a number: 13\n",
      "number is greater than 10\n"
     ]
    }
   ],
   "source": [
    "# Taking input from user \n",
    "\n",
    "b = int(input('Enter a number: '))\n",
    "if(b>10):     \n",
    "    print('number is greater than 10')\n",
    "elif(b==10):\n",
    "    print('number is equal to 10')\n",
    "else:\n",
    "    print('number is less than 10')"
   ]
  },
  {
   "cell_type": "markdown",
   "id": "88ed6101",
   "metadata": {},
   "source": [
    "# While Loop"
   ]
  },
  {
   "cell_type": "code",
   "execution_count": 5,
   "id": "bf4979b4",
   "metadata": {},
   "outputs": [
    {
     "name": "stdout",
     "output_type": "stream",
     "text": [
      "1\n",
      "2\n",
      "3\n",
      "4\n",
      "5\n",
      "6\n",
      "7\n",
      "8\n",
      "9\n",
      "This is executed after successfully completion of while loop\n"
     ]
    }
   ],
   "source": [
    "n = 10\n",
    "i = 1\n",
    "while(i<n):\n",
    "    print(i)\n",
    "    i = i + 1\n",
    "else:\n",
    "    print('This is executed after successfully completion of while loop')"
   ]
  },
  {
   "cell_type": "markdown",
   "id": "3eebbd0e",
   "metadata": {},
   "source": [
    "# Break and Continue statement inside while loop"
   ]
  },
  {
   "cell_type": "code",
   "execution_count": 6,
   "id": "8070d8b0",
   "metadata": {},
   "outputs": [
    {
     "name": "stdout",
     "output_type": "stream",
     "text": [
      "1\n",
      "2\n",
      "3\n"
     ]
    }
   ],
   "source": [
    "n = 10\n",
    "i = 1\n",
    "while(i<n):\n",
    "    print(i)\n",
    "    if(i == 3):\n",
    "        break\n",
    "    i = i + 1\n",
    "else:\n",
    "    print('This is executed after successfully completion of while loop')"
   ]
  },
  {
   "cell_type": "code",
   "execution_count": 7,
   "id": "839cecbc",
   "metadata": {},
   "outputs": [
    {
     "name": "stdout",
     "output_type": "stream",
     "text": [
      "1\n",
      "2\n",
      "3\n",
      "4\n",
      "5\n",
      "6\n",
      "7\n",
      "8\n",
      "9\n",
      "This is executed after successfully completion of while loop\n"
     ]
    }
   ],
   "source": [
    "n = 10\n",
    "i = 1\n",
    "while(i<n):\n",
    "    print(i)  # It is printing 3 also\n",
    "    i = i+1\n",
    "    if(i == 3):\n",
    "        continue\n",
    "else:\n",
    "    print('This is executed after successfully completion of while loop')"
   ]
  },
  {
   "cell_type": "code",
   "execution_count": 8,
   "id": "f05843f7",
   "metadata": {},
   "outputs": [
    {
     "name": "stdout",
     "output_type": "stream",
     "text": [
      "2\n",
      "4\n",
      "5\n",
      "6\n",
      "7\n",
      "8\n",
      "9\n",
      "10\n",
      "This is executed after successfully completion of while loop\n"
     ]
    }
   ],
   "source": [
    "n = 10\n",
    "i = 1\n",
    "while(i<n):\n",
    "    i = i+1\n",
    "    if(i == 3):\n",
    "        continue\n",
    "    print(i)  # It is not printing 3, \n",
    "else:\n",
    "    print('This is executed after successfully completion of while loop')"
   ]
  },
  {
   "cell_type": "raw",
   "id": "7aee890c",
   "metadata": {},
   "source": [
    "Note: - Break means comes out of the loop.\n",
    "        Continue means remaining within loop but donot execute anything after continue statement is satisfied.\n",
    "        else condition will execute in case of continue because the loop is fully completed here.'''"
   ]
  },
  {
   "cell_type": "markdown",
   "id": "5b0f2080",
   "metadata": {},
   "source": [
    "# For Loop"
   ]
  },
  {
   "cell_type": "code",
   "execution_count": 9,
   "id": "227b8812",
   "metadata": {},
   "outputs": [
    {
     "name": "stdout",
     "output_type": "stream",
     "text": [
      "d\n",
      "e\n",
      "b\n",
      "a\n",
      "t\n",
      "t\n",
      "a\n",
      "m\n"
     ]
    }
   ],
   "source": [
    "s = 'debattam'\n",
    "for i in s :\n",
    "    print(i)   # i is a local variable to hold a data temporarily from the given string "
   ]
  },
  {
   "cell_type": "code",
   "execution_count": 10,
   "id": "9f25226b",
   "metadata": {},
   "outputs": [
    {
     "name": "stdout",
     "output_type": "stream",
     "text": [
      "34\n",
      "55\n",
      "deb\n",
      "True\n",
      "(5-6j)\n",
      "This will be executed once the for loop will complete itself successfully\n"
     ]
    }
   ],
   "source": [
    "l = [34, 55, 'deb', True, 5-6j]\n",
    "for i in l :\n",
    "    print(i)\n",
    "else:\n",
    "    print('This will be executed once the for loop will complete itself successfully')"
   ]
  },
  {
   "cell_type": "code",
   "execution_count": 11,
   "id": "ac193f0e",
   "metadata": {},
   "outputs": [
    {
     "name": "stdout",
     "output_type": "stream",
     "text": [
      "34\n",
      "55\n",
      "deb\n"
     ]
    }
   ],
   "source": [
    "l = [34, 55, 'deb', True, 5-6j]\n",
    "for i in l :\n",
    "    print(i)\n",
    "    if(i == 'deb'):\n",
    "        break\n",
    "else:\n",
    "    print('This will be executed once the for loop will complete itself successfully')"
   ]
  },
  {
   "cell_type": "markdown",
   "id": "bfa7dbe6",
   "metadata": {},
   "source": [
    "# Range Function"
   ]
  },
  {
   "cell_type": "raw",
   "id": "23617143",
   "metadata": {},
   "source": [
    "* Range is a generator function which is renerating numeric data for loop depends upon the given input\n",
    "* It will always exclude the upper bound\n",
    "* It can able to generate data in both -ve and +ve side"
   ]
  },
  {
   "cell_type": "code",
   "execution_count": 12,
   "id": "9659517f",
   "metadata": {},
   "outputs": [
    {
     "name": "stdout",
     "output_type": "stream",
     "text": [
      "[0, 1, 2, 3, 4, 5, 6, 7, 8, 9]\n"
     ]
    }
   ],
   "source": [
    "print(list(range(10)))  # Range(10) means 0-9"
   ]
  },
  {
   "cell_type": "code",
   "execution_count": null,
   "id": "1872750e",
   "metadata": {},
   "outputs": [],
   "source": []
  },
  {
   "cell_type": "code",
   "execution_count": null,
   "id": "3b7f57ea",
   "metadata": {},
   "outputs": [],
   "source": []
  },
  {
   "cell_type": "code",
   "execution_count": null,
   "id": "7f8334a6",
   "metadata": {},
   "outputs": [],
   "source": []
  }
 ],
 "metadata": {
  "kernelspec": {
   "display_name": "Python 3 (ipykernel)",
   "language": "python",
   "name": "python3"
  },
  "language_info": {
   "codemirror_mode": {
    "name": "ipython",
    "version": 3
   },
   "file_extension": ".py",
   "mimetype": "text/x-python",
   "name": "python",
   "nbconvert_exporter": "python",
   "pygments_lexer": "ipython3",
   "version": "3.9.7"
  }
 },
 "nbformat": 4,
 "nbformat_minor": 5
}
