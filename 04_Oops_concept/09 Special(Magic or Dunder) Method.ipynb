{
 "cells": [
  {
   "cell_type": "code",
   "execution_count": 1,
   "id": "c388c620",
   "metadata": {},
   "outputs": [
    {
     "data": {
      "text/plain": [
       "['__abs__',\n",
       " '__add__',\n",
       " '__and__',\n",
       " '__bool__',\n",
       " '__ceil__',\n",
       " '__class__',\n",
       " '__delattr__',\n",
       " '__dir__',\n",
       " '__divmod__',\n",
       " '__doc__',\n",
       " '__eq__',\n",
       " '__float__',\n",
       " '__floor__',\n",
       " '__floordiv__',\n",
       " '__format__',\n",
       " '__ge__',\n",
       " '__getattribute__',\n",
       " '__getnewargs__',\n",
       " '__gt__',\n",
       " '__hash__',\n",
       " '__index__',\n",
       " '__init__',\n",
       " '__init_subclass__',\n",
       " '__int__',\n",
       " '__invert__',\n",
       " '__le__',\n",
       " '__lshift__',\n",
       " '__lt__',\n",
       " '__mod__',\n",
       " '__mul__',\n",
       " '__ne__',\n",
       " '__neg__',\n",
       " '__new__',\n",
       " '__or__',\n",
       " '__pos__',\n",
       " '__pow__',\n",
       " '__radd__',\n",
       " '__rand__',\n",
       " '__rdivmod__',\n",
       " '__reduce__',\n",
       " '__reduce_ex__',\n",
       " '__repr__',\n",
       " '__rfloordiv__',\n",
       " '__rlshift__',\n",
       " '__rmod__',\n",
       " '__rmul__',\n",
       " '__ror__',\n",
       " '__round__',\n",
       " '__rpow__',\n",
       " '__rrshift__',\n",
       " '__rshift__',\n",
       " '__rsub__',\n",
       " '__rtruediv__',\n",
       " '__rxor__',\n",
       " '__setattr__',\n",
       " '__sizeof__',\n",
       " '__str__',\n",
       " '__sub__',\n",
       " '__subclasshook__',\n",
       " '__truediv__',\n",
       " '__trunc__',\n",
       " '__xor__',\n",
       " 'as_integer_ratio',\n",
       " 'bit_length',\n",
       " 'conjugate',\n",
       " 'denominator',\n",
       " 'from_bytes',\n",
       " 'imag',\n",
       " 'numerator',\n",
       " 'real',\n",
       " 'to_bytes']"
      ]
     },
     "execution_count": 1,
     "metadata": {},
     "output_type": "execute_result"
    }
   ],
   "source": [
    "dir(int)"
   ]
  },
  {
   "cell_type": "code",
   "execution_count": 2,
   "id": "26d7a79a",
   "metadata": {},
   "outputs": [],
   "source": [
    "a = 10"
   ]
  },
  {
   "cell_type": "code",
   "execution_count": 3,
   "id": "6e6961dc",
   "metadata": {},
   "outputs": [
    {
     "data": {
      "text/plain": [
       "16"
      ]
     },
     "execution_count": 3,
     "metadata": {},
     "output_type": "execute_result"
    }
   ],
   "source": [
    "a+6"
   ]
  },
  {
   "cell_type": "code",
   "execution_count": 4,
   "id": "5b008b19",
   "metadata": {},
   "outputs": [
    {
     "data": {
      "text/plain": [
       "16"
      ]
     },
     "execution_count": 4,
     "metadata": {},
     "output_type": "execute_result"
    }
   ],
   "source": [
    "a.__add__(6)  # Magic Method, if we write '+', system always call this magic/dunder method"
   ]
  },
  {
   "cell_type": "code",
   "execution_count": 5,
   "id": "39fc293e",
   "metadata": {},
   "outputs": [],
   "source": [
    "class company :\n",
    "    # __init__ is used to assign data to a class \n",
    "    def __init__(self):\n",
    "        print('This is a company')"
   ]
  },
  {
   "cell_type": "code",
   "execution_count": 6,
   "id": "5f75e8c6",
   "metadata": {},
   "outputs": [
    {
     "name": "stdout",
     "output_type": "stream",
     "text": [
      "This is a company\n"
     ]
    }
   ],
   "source": [
    "pw = company()"
   ]
  },
  {
   "cell_type": "code",
   "execution_count": 9,
   "id": "f6fca8a1",
   "metadata": {},
   "outputs": [],
   "source": [
    "# Before __init__, internally the system calls another magic method called as __new__\n",
    "# Internally __init__ calls another magic method __new__\n",
    "class company :\n",
    "    def __new__(cls):\n",
    "        print('This is new')\n",
    "        \n",
    "    def __init__(self):\n",
    "        print('This is a company')"
   ]
  },
  {
   "cell_type": "code",
   "execution_count": 10,
   "id": "cca6f7ed",
   "metadata": {},
   "outputs": [
    {
     "name": "stdout",
     "output_type": "stream",
     "text": [
      "This is new\n"
     ]
    }
   ],
   "source": [
    "amazon = company()"
   ]
  },
  {
   "cell_type": "code",
   "execution_count": 19,
   "id": "b56dd972",
   "metadata": {},
   "outputs": [],
   "source": [
    "class pwskills:\n",
    "    def __init__(self):\n",
    "        self.mobile_number = 9330155156"
   ]
  },
  {
   "cell_type": "code",
   "execution_count": 20,
   "id": "5a893c13",
   "metadata": {},
   "outputs": [
    {
     "name": "stdout",
     "output_type": "stream",
     "text": [
      "<__main__.pwskills object at 0x0000029CB4163850>\n"
     ]
    }
   ],
   "source": [
    "pw = pwskills()\n",
    "print(pw)  # it will show me the memory location where mobile number is saved"
   ]
  },
  {
   "cell_type": "code",
   "execution_count": 21,
   "id": "3ff59b2e",
   "metadata": {},
   "outputs": [],
   "source": [
    "# If we want to print our own string instead of showing this memory location, then we can use dunder method like this\n",
    "class pwskills1:\n",
    "    def __init__(self):\n",
    "        self.mobile_number = 9330155156\n",
    "        \n",
    "    def __str__(self):\n",
    "        return 'This is magic method which will print this line for object'"
   ]
  },
  {
   "cell_type": "code",
   "execution_count": 22,
   "id": "9398ed65",
   "metadata": {},
   "outputs": [
    {
     "name": "stdout",
     "output_type": "stream",
     "text": [
      "This is magic method which will print this line for object\n"
     ]
    }
   ],
   "source": [
    "pw = pwskills1()\n",
    "print(pw)"
   ]
  },
  {
   "cell_type": "code",
   "execution_count": null,
   "id": "63879d53",
   "metadata": {},
   "outputs": [],
   "source": []
  }
 ],
 "metadata": {
  "kernelspec": {
   "display_name": "Python 3 (ipykernel)",
   "language": "python",
   "name": "python3"
  },
  "language_info": {
   "codemirror_mode": {
    "name": "ipython",
    "version": 3
   },
   "file_extension": ".py",
   "mimetype": "text/x-python",
   "name": "python",
   "nbconvert_exporter": "python",
   "pygments_lexer": "ipython3",
   "version": "3.9.7"
  }
 },
 "nbformat": 4,
 "nbformat_minor": 5
}
