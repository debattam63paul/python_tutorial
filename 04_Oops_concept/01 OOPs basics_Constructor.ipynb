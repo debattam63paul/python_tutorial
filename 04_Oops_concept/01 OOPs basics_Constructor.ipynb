{
 "cells": [
  {
   "cell_type": "markdown",
   "id": "f7e979ce",
   "metadata": {},
   "source": [
    "OOPs stands for object oriented programming system"
   ]
  },
  {
   "cell_type": "code",
   "execution_count": 1,
   "id": "3fe65807",
   "metadata": {},
   "outputs": [],
   "source": [
    "# OOPs concept helps us to segrigate the whole code into different different segments or modules\n",
    "# As a result our code becomes clean, maintainable, structured and reusable, understandable, simpler,\n",
    "# easily detect mistakes and clean code"
   ]
  },
  {
   "cell_type": "code",
   "execution_count": 4,
   "id": "5ef08d4e",
   "metadata": {},
   "outputs": [
    {
     "name": "stdout",
     "output_type": "stream",
     "text": [
      "<class 'int'>\n"
     ]
    }
   ],
   "source": [
    "print(type(2)) # 2 is under int class"
   ]
  },
  {
   "cell_type": "code",
   "execution_count": 6,
   "id": "39f417b0",
   "metadata": {},
   "outputs": [
    {
     "name": "stdout",
     "output_type": "stream",
     "text": [
      "<class 'str'>\n"
     ]
    }
   ],
   "source": [
    "print(type('Debattam'))  # It is under string class"
   ]
  },
  {
   "cell_type": "code",
   "execution_count": 2,
   "id": "ffefd51b",
   "metadata": {},
   "outputs": [],
   "source": [
    "# Creating own class named as test\n",
    "class test:\n",
    "    pass"
   ]
  },
  {
   "cell_type": "code",
   "execution_count": 8,
   "id": "10dd34d1",
   "metadata": {},
   "outputs": [
    {
     "name": "stdout",
     "output_type": "stream",
     "text": [
      "<class '__main__.test'>\n"
     ]
    }
   ],
   "source": [
    "a = test()    # a is called as an object of class test, a real world entity\n",
    "print(type(a))"
   ]
  },
  {
   "cell_type": "code",
   "execution_count": 11,
   "id": "57980798",
   "metadata": {},
   "outputs": [],
   "source": [
    "class railways:\n",
    "    # Properties\n",
    "    def wlcm_msg(self):                      # self is a pointer by which class is able to know this function belongs to it.\n",
    "        print('Welcome to Indian railways')"
   ]
  },
  {
   "cell_type": "code",
   "execution_count": 12,
   "id": "735d928e",
   "metadata": {},
   "outputs": [
    {
     "name": "stdout",
     "output_type": "stream",
     "text": [
      "Welcome to Indian railways\n"
     ]
    }
   ],
   "source": [
    "train1 = railways()  # train1 is an object of railways class\n",
    "train1.wlcm_msg()"
   ]
  },
  {
   "cell_type": "code",
   "execution_count": 13,
   "id": "3f3885ee",
   "metadata": {},
   "outputs": [
    {
     "name": "stdout",
     "output_type": "stream",
     "text": [
      "Welcome to Indian railways\n"
     ]
    }
   ],
   "source": [
    "# Many number of objects can be there into a particular class and all objects can access the property of that class.\n",
    "train2 = railways() \n",
    "train2.wlcm_msg()"
   ]
  },
  {
   "cell_type": "code",
   "execution_count": 14,
   "id": "3a0c7c91",
   "metadata": {},
   "outputs": [
    {
     "name": "stdout",
     "output_type": "stream",
     "text": [
      "<class '__main__.railways'>\n"
     ]
    }
   ],
   "source": [
    "print(type(train2))"
   ]
  },
  {
   "cell_type": "markdown",
   "id": "f1ccb4ec",
   "metadata": {},
   "source": [
    "# constructor"
   ]
  },
  {
   "cell_type": "markdown",
   "id": "e581b21b",
   "metadata": {},
   "source": [
    "Constructor helps a class to take data from user"
   ]
  },
  {
   "cell_type": "code",
   "execution_count": 15,
   "id": "f0edc0d8",
   "metadata": {},
   "outputs": [],
   "source": [
    "class employee:\n",
    "    # Constructor\n",
    "    def __init__(self, employee_id, phone_number, salary):   # self is a pointer pointing towards class, we can use any name instead of self\n",
    "        self.employee_id = employee_id\n",
    "        self.phone_number = phone_number\n",
    "        self.salary = salary\n",
    "    \n",
    "    def employee_details(self):\n",
    "        return self.employee_id, self.phone_number, self.salary"
   ]
  },
  {
   "cell_type": "code",
   "execution_count": 18,
   "id": "716d1fb9",
   "metadata": {},
   "outputs": [],
   "source": [
    "rohan = employee(3, 9330155156, 30000) # rohan is an object under employee class with inputs"
   ]
  },
  {
   "cell_type": "code",
   "execution_count": 22,
   "id": "9b21eeeb",
   "metadata": {},
   "outputs": [
    {
     "data": {
      "text/plain": [
       "(30000, 3)"
      ]
     },
     "execution_count": 22,
     "metadata": {},
     "output_type": "execute_result"
    }
   ],
   "source": [
    "# seeing output\n",
    "rohan.salary, rohan.employee_id"
   ]
  },
  {
   "cell_type": "code",
   "execution_count": 21,
   "id": "c1841b88",
   "metadata": {},
   "outputs": [
    {
     "data": {
      "text/plain": [
       "9330155156"
      ]
     },
     "execution_count": 21,
     "metadata": {},
     "output_type": "execute_result"
    }
   ],
   "source": [
    "rohan.phone_number"
   ]
  },
  {
   "cell_type": "code",
   "execution_count": 23,
   "id": "166e6cf1",
   "metadata": {},
   "outputs": [
    {
     "data": {
      "text/plain": [
       "(3, 9330155156, 30000)"
      ]
     },
     "execution_count": 23,
     "metadata": {},
     "output_type": "execute_result"
    }
   ],
   "source": [
    "rohan.employee_details()"
   ]
  },
  {
   "cell_type": "code",
   "execution_count": 24,
   "id": "e783eb4b",
   "metadata": {},
   "outputs": [],
   "source": [
    "mohan = employee(12, 6290482562, 10000)"
   ]
  },
  {
   "cell_type": "code",
   "execution_count": 25,
   "id": "7933e722",
   "metadata": {},
   "outputs": [
    {
     "name": "stdout",
     "output_type": "stream",
     "text": [
      "12\n",
      "10000\n",
      "6290482562\n"
     ]
    }
   ],
   "source": [
    "print(mohan.employee_id)\n",
    "print(mohan.salary)\n",
    "print(mohan.phone_number)"
   ]
  },
  {
   "cell_type": "code",
   "execution_count": 26,
   "id": "15cfab24",
   "metadata": {},
   "outputs": [
    {
     "data": {
      "text/plain": [
       "(12, 6290482562, 10000)"
      ]
     },
     "execution_count": 26,
     "metadata": {},
     "output_type": "execute_result"
    }
   ],
   "source": [
    "mohan.employee_details()"
   ]
  },
  {
   "cell_type": "code",
   "execution_count": null,
   "id": "bb15512f",
   "metadata": {},
   "outputs": [],
   "source": []
  }
 ],
 "metadata": {
  "kernelspec": {
   "display_name": "Python 3 (ipykernel)",
   "language": "python",
   "name": "python3"
  },
  "language_info": {
   "codemirror_mode": {
    "name": "ipython",
    "version": 3
   },
   "file_extension": ".py",
   "mimetype": "text/x-python",
   "name": "python",
   "nbconvert_exporter": "python",
   "pygments_lexer": "ipython3",
   "version": "3.9.7"
  }
 },
 "nbformat": 4,
 "nbformat_minor": 5
}
