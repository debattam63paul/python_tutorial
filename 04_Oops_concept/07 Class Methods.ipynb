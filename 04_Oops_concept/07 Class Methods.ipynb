{
 "cells": [
  {
   "cell_type": "code",
   "execution_count": 15,
   "id": "359d1655",
   "metadata": {},
   "outputs": [],
   "source": [
    "class college:\n",
    "    mobile_number = 9330155156      # we can call it directly without pointing through init\n",
    "    def __init__(self, student_id, student_name, cgpa):\n",
    "        self.student_id = student_id\n",
    "        self.student_name = student_name\n",
    "        self.cgpa = cgpa\n",
    "    \n",
    "    # Class Method\n",
    "    # Class Method is nothing but a decoretor which decorates function with init.\n",
    "    # self is not used here because self points class through init, but here decorator directly points class.\n",
    "\n",
    "    # Class Method to change mobile number\n",
    "    @classmethod\n",
    "    def change_number(cls, number):\n",
    "        college.mobile_number = number\n",
    "        \n",
    "    #Instance Method\n",
    "    def student_details(self):\n",
    "        return self.student_id, self.student_name, self.cgpa, college.mobile_number\n",
    "    \n",
    "# Note that, Class Method is associated with the class itself, it can modify all the things inside the class\n",
    "#            but instance method is associated with instances(objects), it can modify objects not class"
   ]
  },
  {
   "cell_type": "code",
   "execution_count": 16,
   "id": "e301ced5",
   "metadata": {},
   "outputs": [],
   "source": [
    "rohan = college(3,'rohan',7.6)"
   ]
  },
  {
   "cell_type": "code",
   "execution_count": 17,
   "id": "bcc15977",
   "metadata": {},
   "outputs": [
    {
     "data": {
      "text/plain": [
       "'rohan'"
      ]
     },
     "execution_count": 17,
     "metadata": {},
     "output_type": "execute_result"
    }
   ],
   "source": [
    "rohan.student_name"
   ]
  },
  {
   "cell_type": "code",
   "execution_count": 18,
   "id": "f6c1f8fb",
   "metadata": {},
   "outputs": [
    {
     "data": {
      "text/plain": [
       "7.6"
      ]
     },
     "execution_count": 18,
     "metadata": {},
     "output_type": "execute_result"
    }
   ],
   "source": [
    "rohan.cgpa"
   ]
  },
  {
   "cell_type": "code",
   "execution_count": 19,
   "id": "d2731bfe",
   "metadata": {},
   "outputs": [
    {
     "data": {
      "text/plain": [
       "(3, 'rohan', 7.6, 9330155156)"
      ]
     },
     "execution_count": 19,
     "metadata": {},
     "output_type": "execute_result"
    }
   ],
   "source": [
    "rohan.student_details()"
   ]
  },
  {
   "cell_type": "code",
   "execution_count": 13,
   "id": "0ad7d333",
   "metadata": {},
   "outputs": [],
   "source": [
    "# changing mobile number\n",
    "college.change_number(6290482562)"
   ]
  },
  {
   "cell_type": "code",
   "execution_count": 14,
   "id": "94be763d",
   "metadata": {},
   "outputs": [
    {
     "data": {
      "text/plain": [
       "(3, 'rohan', 7.6, 6290482562)"
      ]
     },
     "execution_count": 14,
     "metadata": {},
     "output_type": "execute_result"
    }
   ],
   "source": [
    "rohan.student_details()"
   ]
  },
  {
   "cell_type": "code",
   "execution_count": 2,
   "id": "a32c9d7d",
   "metadata": {},
   "outputs": [],
   "source": [
    "# Another Method  --> using class method\n",
    "class college1:\n",
    "    def __init__(self, student_id, student_name, cgpa):\n",
    "        self.student_id = student_id\n",
    "        self.student_name = student_name\n",
    "        self.cgpa = cgpa\n",
    "    \n",
    "    # Class Method\n",
    "    # Class Method is nothing but a decoretor which decorates function with init.\n",
    "    # We can directly pass the data to the class without init function using class method.\n",
    "    # self is not used here because self points class through init, but here decorator directly points class.\n",
    "    @classmethod\n",
    "    def details(cls, student_id, student_name, cgpa):\n",
    "        return cls(student_id, student_name, cgpa)\n",
    "    \n",
    "    def student_details(self):\n",
    "        return self.student_id, self.student_name, self.cgpa"
   ]
  },
  {
   "cell_type": "code",
   "execution_count": 3,
   "id": "6dcff4e6",
   "metadata": {},
   "outputs": [],
   "source": [
    "mohan = college1.details(4, 'mohan', 8.3)"
   ]
  },
  {
   "cell_type": "code",
   "execution_count": 4,
   "id": "8b327158",
   "metadata": {},
   "outputs": [
    {
     "data": {
      "text/plain": [
       "8.3"
      ]
     },
     "execution_count": 4,
     "metadata": {},
     "output_type": "execute_result"
    }
   ],
   "source": [
    "mohan.cgpa"
   ]
  },
  {
   "cell_type": "code",
   "execution_count": 5,
   "id": "55f49f00",
   "metadata": {},
   "outputs": [
    {
     "data": {
      "text/plain": [
       "4"
      ]
     },
     "execution_count": 5,
     "metadata": {},
     "output_type": "execute_result"
    }
   ],
   "source": [
    "mohan.student_id"
   ]
  },
  {
   "cell_type": "code",
   "execution_count": 6,
   "id": "89297987",
   "metadata": {},
   "outputs": [
    {
     "data": {
      "text/plain": [
       "(4, 'mohan', 8.3)"
      ]
     },
     "execution_count": 6,
     "metadata": {},
     "output_type": "execute_result"
    }
   ],
   "source": [
    "mohan.student_details()"
   ]
  },
  {
   "cell_type": "code",
   "execution_count": 30,
   "id": "9053f169",
   "metadata": {},
   "outputs": [],
   "source": [
    "# Adding external function to existing class 'college1' using class method\n",
    "def course_details(cls,course_name):\n",
    "    return course_name\n",
    "\n",
    "college1.course_details = classmethod(course_details)"
   ]
  },
  {
   "cell_type": "code",
   "execution_count": 31,
   "id": "c9fea165",
   "metadata": {},
   "outputs": [],
   "source": [
    "debattam = college1(12,'debattam',7.4)"
   ]
  },
  {
   "cell_type": "code",
   "execution_count": 32,
   "id": "51749718",
   "metadata": {},
   "outputs": [
    {
     "data": {
      "text/plain": [
       "'Data Science Masters'"
      ]
     },
     "execution_count": 32,
     "metadata": {},
     "output_type": "execute_result"
    }
   ],
   "source": [
    "debattam.course_details('Data Science Masters')"
   ]
  },
  {
   "cell_type": "code",
   "execution_count": 34,
   "id": "6cef7e75",
   "metadata": {},
   "outputs": [],
   "source": [
    "# Delete a function inside class\n",
    "del college.change_number"
   ]
  },
  {
   "cell_type": "code",
   "execution_count": 35,
   "id": "971382ff",
   "metadata": {},
   "outputs": [],
   "source": [
    "delattr(college1,'course_name')"
   ]
  },
  {
   "cell_type": "code",
   "execution_count": null,
   "id": "3a6e06b5",
   "metadata": {
    "collapsed": true
   },
   "outputs": [],
   "source": []
  },
  {
   "cell_type": "code",
   "execution_count": null,
   "id": "1280216e",
   "metadata": {},
   "outputs": [],
   "source": []
  }
 ],
 "metadata": {
  "kernelspec": {
   "display_name": "Python 3 (ipykernel)",
   "language": "python",
   "name": "python3"
  },
  "language_info": {
   "codemirror_mode": {
    "name": "ipython",
    "version": 3
   },
   "file_extension": ".py",
   "mimetype": "text/x-python",
   "name": "python",
   "nbconvert_exporter": "python",
   "pygments_lexer": "ipython3",
   "version": "3.9.7"
  }
 },
 "nbformat": 4,
 "nbformat_minor": 5
}
