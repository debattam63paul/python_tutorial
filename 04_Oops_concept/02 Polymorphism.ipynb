{
 "cells": [
  {
   "cell_type": "markdown",
   "id": "ca2ab206",
   "metadata": {},
   "source": [
    "Poly means multiple, morphism means characteristics or state"
   ]
  },
  {
   "cell_type": "code",
   "execution_count": 2,
   "id": "31f5c998",
   "metadata": {},
   "outputs": [],
   "source": [
    "# example of polymorphism in function\n",
    "def test(a,b):\n",
    "    return a+b"
   ]
  },
  {
   "cell_type": "code",
   "execution_count": 3,
   "id": "287b91c6",
   "metadata": {},
   "outputs": [
    {
     "data": {
      "text/plain": [
       "5"
      ]
     },
     "execution_count": 3,
     "metadata": {},
     "output_type": "execute_result"
    }
   ],
   "source": [
    "test(2,3)"
   ]
  },
  {
   "cell_type": "code",
   "execution_count": 4,
   "id": "b0639b1f",
   "metadata": {},
   "outputs": [
    {
     "data": {
      "text/plain": [
       "'Debattam Paul'"
      ]
     },
     "execution_count": 4,
     "metadata": {},
     "output_type": "execute_result"
    }
   ],
   "source": [
    "test('Debattam ','Paul')"
   ]
  },
  {
   "cell_type": "code",
   "execution_count": 6,
   "id": "ea468148",
   "metadata": {},
   "outputs": [
    {
     "data": {
      "text/plain": [
       "[1, 2, 3, 4, 5, 6]"
      ]
     },
     "execution_count": 6,
     "metadata": {},
     "output_type": "execute_result"
    }
   ],
   "source": [
    "test([1,2,3],[4,5,6])"
   ]
  },
  {
   "cell_type": "code",
   "execution_count": 5,
   "id": "4506c3d9",
   "metadata": {},
   "outputs": [],
   "source": [
    "# NOTE\n",
    "# In above case we see that same function do different operations when datatype is changing\n",
    "# For int, it does addition operation, for string, it does concatenate operation, for list, it does append operation\n",
    "# so, we say that this function has the property of polymorphism as it has multiple characteristics or states as per the datatypes"
   ]
  },
  {
   "cell_type": "code",
   "execution_count": 13,
   "id": "25fb1b3a",
   "metadata": {},
   "outputs": [
    {
     "name": "stdout",
     "output_type": "stream",
     "text": [
      "This is the syllabus of data science\n",
      "This is the syllabus of web development\n"
     ]
    }
   ],
   "source": [
    "# Polymorphism in OOPs\n",
    "\n",
    "# Defining classes and its characteristics\n",
    "class data_science:\n",
    "    def syllabus(self):\n",
    "        print('This is the syllabus of data science')\n",
    "\n",
    "class web_dev:\n",
    "    def syllabus(self):\n",
    "        print('This is the syllabus of web development')\n",
    "\n",
    "# Defining objects of those classes\n",
    "obj_data_science = data_science()\n",
    "obj_web_dev = web_dev()\n",
    "\n",
    "# Combining both objects into one object using list\n",
    "class_obj = [obj_data_science, obj_web_dev]\n",
    "\n",
    "# Function helps for using both the characteristics from different classes together\n",
    "def class_percer(class_obj):\n",
    "    for i in class_obj:\n",
    "        i.syllabus()\n",
    "\n",
    "class_percer(class_obj)\n",
    "# This class_percer has both the characteristics those two classes (data_science and web_dev)\n",
    "# So, it is an example of polymorphism"
   ]
  },
  {
   "cell_type": "code",
   "execution_count": null,
   "id": "c02bee8d",
   "metadata": {},
   "outputs": [],
   "source": []
  }
 ],
 "metadata": {
  "kernelspec": {
   "display_name": "Python 3 (ipykernel)",
   "language": "python",
   "name": "python3"
  },
  "language_info": {
   "codemirror_mode": {
    "name": "ipython",
    "version": 3
   },
   "file_extension": ".py",
   "mimetype": "text/x-python",
   "name": "python",
   "nbconvert_exporter": "python",
   "pygments_lexer": "ipython3",
   "version": "3.9.7"
  }
 },
 "nbformat": 4,
 "nbformat_minor": 5
}
