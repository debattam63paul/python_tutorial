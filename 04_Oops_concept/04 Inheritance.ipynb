{
 "cells": [
  {
   "cell_type": "markdown",
   "id": "efec2224",
   "metadata": {},
   "source": [
    "Here a class inherits some properties from another classes"
   ]
  },
  {
   "cell_type": "markdown",
   "id": "c805b900",
   "metadata": {},
   "source": [
    "# Simple Inheritance"
   ]
  },
  {
   "cell_type": "code",
   "execution_count": 1,
   "id": "b25eb928",
   "metadata": {},
   "outputs": [],
   "source": [
    "class parent:\n",
    "    def test_parent(self):\n",
    "        return 'Here is parent of child'\n",
    "\n",
    "class child(parent):          # Inheritance, child is getting properties from parent\n",
    "    pass"
   ]
  },
  {
   "cell_type": "code",
   "execution_count": 2,
   "id": "8f55f417",
   "metadata": {},
   "outputs": [
    {
     "data": {
      "text/plain": [
       "'Here is parent of child'"
      ]
     },
     "execution_count": 2,
     "metadata": {},
     "output_type": "execute_result"
    }
   ],
   "source": [
    "child_obj = child()\n",
    "child_obj.test_parent()"
   ]
  },
  {
   "cell_type": "markdown",
   "id": "9ea6342d",
   "metadata": {},
   "source": [
    "# Multi-level Inheritance"
   ]
  },
  {
   "cell_type": "code",
   "execution_count": 3,
   "id": "f147d139",
   "metadata": {},
   "outputs": [],
   "source": [
    "# If class2 is inherited from class1 and class3 is inherited from class2 \n",
    "# so that class3 has the properties of both class1 and class2 then it is called multi-level inheritance"
   ]
  },
  {
   "cell_type": "code",
   "execution_count": 5,
   "id": "c393b8d0",
   "metadata": {},
   "outputs": [],
   "source": [
    "# Example of multi-level inheritance\n",
    "class class1:\n",
    "    def test_class1(self):\n",
    "        return 'This is the properties of class1'\n",
    "\n",
    "class class2(class1):\n",
    "    def test_class2(self):\n",
    "        return 'This is the properties of class2'\n",
    "\n",
    "class class3(class2):\n",
    "    def test_class3(self):\n",
    "        return 'This is the properties of class3'"
   ]
  },
  {
   "cell_type": "code",
   "execution_count": 8,
   "id": "9318e0c2",
   "metadata": {},
   "outputs": [],
   "source": [
    "class_obj = class3()"
   ]
  },
  {
   "cell_type": "code",
   "execution_count": 9,
   "id": "fc7f5604",
   "metadata": {},
   "outputs": [
    {
     "data": {
      "text/plain": [
       "'This is the properties of class1'"
      ]
     },
     "execution_count": 9,
     "metadata": {},
     "output_type": "execute_result"
    }
   ],
   "source": [
    "class_obj.test_class1()"
   ]
  },
  {
   "cell_type": "code",
   "execution_count": 10,
   "id": "f7a341a6",
   "metadata": {},
   "outputs": [
    {
     "data": {
      "text/plain": [
       "'This is the properties of class2'"
      ]
     },
     "execution_count": 10,
     "metadata": {},
     "output_type": "execute_result"
    }
   ],
   "source": [
    "class_obj.test_class2()"
   ]
  },
  {
   "cell_type": "code",
   "execution_count": 11,
   "id": "c5bb7ed0",
   "metadata": {},
   "outputs": [
    {
     "data": {
      "text/plain": [
       "'This is the properties of class3'"
      ]
     },
     "execution_count": 11,
     "metadata": {},
     "output_type": "execute_result"
    }
   ],
   "source": [
    "class_obj.test_class3()"
   ]
  },
  {
   "cell_type": "markdown",
   "id": "e7288bed",
   "metadata": {},
   "source": [
    "# Multiple Inheritance"
   ]
  },
  {
   "cell_type": "code",
   "execution_count": 12,
   "id": "bb1b20fa",
   "metadata": {},
   "outputs": [],
   "source": [
    "# In case of multi-level inheritance class3 is indirectly inherited from class1 properties\n",
    "# In case of multiple inheritance class3 is directly inherited from class1 and class2"
   ]
  },
  {
   "cell_type": "code",
   "execution_count": 13,
   "id": "0145b270",
   "metadata": {},
   "outputs": [],
   "source": [
    "# Example of multiple inheritance\n",
    "class class1:\n",
    "    def test_class1(self):\n",
    "        return 'This is the properties of class1'\n",
    "\n",
    "class class2:\n",
    "    def test_class2(self):\n",
    "        return 'This is the properties of class2'\n",
    "\n",
    "class class3(class1, class2):     # Multiple inheritance\n",
    "    pass"
   ]
  },
  {
   "cell_type": "code",
   "execution_count": 14,
   "id": "9b6d6969",
   "metadata": {},
   "outputs": [],
   "source": [
    "class_obj = class3()"
   ]
  },
  {
   "cell_type": "code",
   "execution_count": 15,
   "id": "4c4710e8",
   "metadata": {},
   "outputs": [
    {
     "data": {
      "text/plain": [
       "'This is the properties of class1'"
      ]
     },
     "execution_count": 15,
     "metadata": {},
     "output_type": "execute_result"
    }
   ],
   "source": [
    "class_obj.test_class1()"
   ]
  },
  {
   "cell_type": "code",
   "execution_count": 16,
   "id": "fcbc5c36",
   "metadata": {},
   "outputs": [
    {
     "data": {
      "text/plain": [
       "'This is the properties of class2'"
      ]
     },
     "execution_count": 16,
     "metadata": {},
     "output_type": "execute_result"
    }
   ],
   "source": [
    "class_obj.test_class2()"
   ]
  },
  {
   "cell_type": "code",
   "execution_count": null,
   "id": "0c0409d6",
   "metadata": {},
   "outputs": [],
   "source": []
  }
 ],
 "metadata": {
  "kernelspec": {
   "display_name": "Python 3 (ipykernel)",
   "language": "python",
   "name": "python3"
  },
  "language_info": {
   "codemirror_mode": {
    "name": "ipython",
    "version": 3
   },
   "file_extension": ".py",
   "mimetype": "text/x-python",
   "name": "python",
   "nbconvert_exporter": "python",
   "pygments_lexer": "ipython3",
   "version": "3.9.7"
  }
 },
 "nbformat": 4,
 "nbformat_minor": 5
}
