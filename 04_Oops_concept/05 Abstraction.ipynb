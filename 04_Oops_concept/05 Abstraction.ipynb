{
 "cells": [
  {
   "cell_type": "markdown",
   "id": "3c6c7281",
   "metadata": {},
   "source": [
    "Abstract class is a skelaton or blueprint or structure for a particular class"
   ]
  },
  {
   "cell_type": "code",
   "execution_count": 1,
   "id": "88f78f7c",
   "metadata": {},
   "outputs": [],
   "source": [
    "import abc"
   ]
  },
  {
   "cell_type": "code",
   "execution_count": 2,
   "id": "ed0e2c3a",
   "metadata": {},
   "outputs": [],
   "source": [
    "# Creating abstract class or structure of another classes\n",
    "class pwskills :\n",
    "    @abc.abstractmethod\n",
    "    def student_details(self):\n",
    "        pass\n",
    "    \n",
    "    @abc.abstractmethod\n",
    "    def student_assignment(self):\n",
    "        pass\n",
    "    \n",
    "    @abc.abstractmethod\n",
    "    def student_marks(self):\n",
    "        pass"
   ]
  },
  {
   "cell_type": "code",
   "execution_count": 3,
   "id": "1e6dd044",
   "metadata": {},
   "outputs": [],
   "source": [
    "# Creating classes which structure or decoration will be as per abstract class\n",
    "class data_science(pwskills):\n",
    "    def student_details(self):\n",
    "        return 'Student details of data science course'\n",
    "    \n",
    "    def student_assignment(self):\n",
    "        return 'Student assignment of data science course'\n",
    "    \n",
    "class web_dev(pwskills):\n",
    "    def student_details(self):\n",
    "        return 'Student details of web development course'\n",
    "    \n",
    "    def student_marks(self):\n",
    "        return 'Student marks of web development course'"
   ]
  },
  {
   "cell_type": "code",
   "execution_count": 4,
   "id": "667be0bf",
   "metadata": {},
   "outputs": [
    {
     "data": {
      "text/plain": [
       "'Student details of data science course'"
      ]
     },
     "execution_count": 4,
     "metadata": {},
     "output_type": "execute_result"
    }
   ],
   "source": [
    "ds = data_science()\n",
    "ds.student_details()"
   ]
  },
  {
   "cell_type": "code",
   "execution_count": 5,
   "id": "cc69e125",
   "metadata": {},
   "outputs": [
    {
     "data": {
      "text/plain": [
       "'Student marks of web development course'"
      ]
     },
     "execution_count": 5,
     "metadata": {},
     "output_type": "execute_result"
    }
   ],
   "source": [
    "wb = web_dev()\n",
    "wb.student_marks()"
   ]
  },
  {
   "cell_type": "code",
   "execution_count": null,
   "id": "d9a6d0a2",
   "metadata": {},
   "outputs": [],
   "source": []
  }
 ],
 "metadata": {
  "kernelspec": {
   "display_name": "Python 3 (ipykernel)",
   "language": "python",
   "name": "python3"
  },
  "language_info": {
   "codemirror_mode": {
    "name": "ipython",
    "version": 3
   },
   "file_extension": ".py",
   "mimetype": "text/x-python",
   "name": "python",
   "nbconvert_exporter": "python",
   "pygments_lexer": "ipython3",
   "version": "3.9.7"
  }
 },
 "nbformat": 4,
 "nbformat_minor": 5
}
