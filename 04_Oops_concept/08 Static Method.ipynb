{
 "cells": [
  {
   "cell_type": "code",
   "execution_count": 3,
   "id": "1041ba1e",
   "metadata": {},
   "outputs": [],
   "source": [
    "class school:\n",
    "    # Instance Method\n",
    "    def student_details(self, name, roll, standard):\n",
    "        print(name, roll, standard)\n",
    "    \n",
    "    # Static Method\n",
    "    @staticmethod   # --> no cls, or self is required here\n",
    "    def mentor(list_mentor):\n",
    "        print(list_mentor)"
   ]
  },
  {
   "cell_type": "code",
   "execution_count": 4,
   "id": "6cf75494",
   "metadata": {},
   "outputs": [
    {
     "name": "stdout",
     "output_type": "stream",
     "text": [
      "Debattam 12 10\n",
      "['abc', 'def', 'ghi']\n"
     ]
    }
   ],
   "source": [
    "snv = school()\n",
    "# Accessing mentor through object\n",
    "snv.student_details('Debattam',12,10)\n",
    "snv.mentor(['abc','def','ghi'])"
   ]
  },
  {
   "cell_type": "code",
   "execution_count": 6,
   "id": "e8ed1abe",
   "metadata": {},
   "outputs": [
    {
     "name": "stdout",
     "output_type": "stream",
     "text": [
      "['mno', 'pqr', 'stu']\n"
     ]
    }
   ],
   "source": [
    "# Accessing mentor through class\n",
    "school.mentor(['mno','pqr','stu'])"
   ]
  },
  {
   "cell_type": "code",
   "execution_count": 7,
   "id": "10cbf7bc",
   "metadata": {},
   "outputs": [],
   "source": [
    "# Static is available through all the objects, internally it will not create different different function with respect to \n",
    "# different different instances, this functions remains same for all the instances so it reduces space complexity a lot.\n",
    "\n",
    "# Inshort, static method is directly available to a class so it will be available all the objects of the class.\n",
    "# Static and class method is available across all the classes and based on the object creation, it is not going to replicate.\n",
    "# But class method helps to bypass init, static method try to reduce memory utilization. \n",
    "\n",
    "# In school, student details change every year but mentor remains same, thats why student details --> Instance Method,\n",
    "#  mentor --> static method"
   ]
  },
  {
   "cell_type": "code",
   "execution_count": 19,
   "id": "107bc799",
   "metadata": {},
   "outputs": [],
   "source": [
    "# Static method inside instance method\n",
    "class school1:\n",
    "    # Static Method\n",
    "    @staticmethod   \n",
    "    def mentor(list_mentor):\n",
    "        print(list_mentor)\n",
    "        \n",
    "    # Instance Method\n",
    "    def student_details(self, name, roll, standard, list_of_mentors):\n",
    "        print(name, roll, standard)\n",
    "        self.mentor(list_of_mentors)  # static inside instance"
   ]
  },
  {
   "cell_type": "code",
   "execution_count": 20,
   "id": "be5a0afe",
   "metadata": {},
   "outputs": [
    {
     "name": "stdout",
     "output_type": "stream",
     "text": [
      "debattam 12 10\n",
      "['abcd', 'efgh', 'ijkl']\n"
     ]
    }
   ],
   "source": [
    "snv = school1()\n",
    "snv.student_details('debattam',12,10,['abcd','efgh','ijkl'])"
   ]
  },
  {
   "cell_type": "code",
   "execution_count": 22,
   "id": "f4df7d25",
   "metadata": {},
   "outputs": [],
   "source": [
    "# Static method inside class method\n",
    "class school2:\n",
    "    # Static Method\n",
    "    @staticmethod   \n",
    "    def mentor(list_mentor):\n",
    "        print(list_mentor)\n",
    "        \n",
    "    # Class Method\n",
    "    @classmethod\n",
    "    def class_name(cls, name, list_of_mentors):\n",
    "        print(name)\n",
    "        cls.mentor(list_of_mentors)  # static inside instance"
   ]
  },
  {
   "cell_type": "code",
   "execution_count": 32,
   "id": "e37fd6f3",
   "metadata": {},
   "outputs": [
    {
     "name": "stdout",
     "output_type": "stream",
     "text": [
      "Physics\n",
      "['asg', 'abcd']\n"
     ]
    }
   ],
   "source": [
    "sui = school2()\n",
    "sui.class_name('Physics',['asg','abcd'])"
   ]
  },
  {
   "cell_type": "code",
   "execution_count": 34,
   "id": "7b7111a6",
   "metadata": {},
   "outputs": [],
   "source": [
    "# Static Method inside Static Method\n",
    "class school3:\n",
    "    @staticmethod\n",
    "    def mentor_number(number):\n",
    "        print(number)\n",
    "    \n",
    "    @staticmethod\n",
    "    def mentor_details(list_of_name,number):\n",
    "        print(list_of_name)\n",
    "        school3.mentor_number(number)"
   ]
  },
  {
   "cell_type": "code",
   "execution_count": 35,
   "id": "d589ac90",
   "metadata": {},
   "outputs": [
    {
     "name": "stdout",
     "output_type": "stream",
     "text": [
      "['bshs', 'hrun']\n",
      "9330155156\n"
     ]
    }
   ],
   "source": [
    "abc = school3()\n",
    "abc.mentor_details(['bshs','hrun'],9330155156)"
   ]
  },
  {
   "cell_type": "code",
   "execution_count": null,
   "id": "aa665c2c",
   "metadata": {},
   "outputs": [],
   "source": []
  }
 ],
 "metadata": {
  "kernelspec": {
   "display_name": "Python 3 (ipykernel)",
   "language": "python",
   "name": "python3"
  },
  "language_info": {
   "codemirror_mode": {
    "name": "ipython",
    "version": 3
   },
   "file_extension": ".py",
   "mimetype": "text/x-python",
   "name": "python",
   "nbconvert_exporter": "python",
   "pygments_lexer": "ipython3",
   "version": "3.9.7"
  }
 },
 "nbformat": 4,
 "nbformat_minor": 5
}
