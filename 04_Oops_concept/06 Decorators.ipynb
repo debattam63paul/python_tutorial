{
 "cells": [
  {
   "cell_type": "raw",
   "id": "186a2b02",
   "metadata": {},
   "source": [
    "--> It is nothing but decorate functions with some external function using some logic\n",
    "--> Decorator Function is used to remove repetation of anything that we can use in function"
   ]
  },
  {
   "cell_type": "code",
   "execution_count": 2,
   "id": "ce17a857",
   "metadata": {},
   "outputs": [],
   "source": [
    "# Decorator Function\n",
    "def deco(func):\n",
    "    def inner_deco():\n",
    "        print('This is the starting of function')\n",
    "        func()\n",
    "        print('This is the ending of function')\n",
    "    return inner_deco"
   ]
  },
  {
   "cell_type": "code",
   "execution_count": 3,
   "id": "2f353f1e",
   "metadata": {},
   "outputs": [],
   "source": [
    "@deco\n",
    "def test1():\n",
    "    print(4+5)"
   ]
  },
  {
   "cell_type": "code",
   "execution_count": 4,
   "id": "cc9ce69e",
   "metadata": {},
   "outputs": [
    {
     "name": "stdout",
     "output_type": "stream",
     "text": [
      "This is the starting of function\n",
      "9\n",
      "This is the ending of function\n"
     ]
    }
   ],
   "source": [
    "test1()"
   ]
  },
  {
   "cell_type": "code",
   "execution_count": 18,
   "id": "7b815256",
   "metadata": {},
   "outputs": [],
   "source": [
    "# Problem - Create a decorator function to calculate the time taken by any function to do some task.\n",
    "import time\n",
    "def time_calc(func):\n",
    "    def time_calc_inner():\n",
    "        start = time.time()\n",
    "        func()\n",
    "        end = time.time()\n",
    "        print(end-start)\n",
    "    return time_calc_inner()"
   ]
  },
  {
   "cell_type": "code",
   "execution_count": 19,
   "id": "8c347701",
   "metadata": {},
   "outputs": [
    {
     "name": "stdout",
     "output_type": "stream",
     "text": [
      "0.0\n"
     ]
    },
    {
     "ename": "TypeError",
     "evalue": "'NoneType' object is not callable",
     "output_type": "error",
     "traceback": [
      "\u001b[1;31m---------------------------------------------------------------------------\u001b[0m",
      "\u001b[1;31mTypeError\u001b[0m                                 Traceback (most recent call last)",
      "\u001b[1;32mC:\\Users\\DEBATT~1\\AppData\\Local\\Temp/ipykernel_11952/1310242343.py\u001b[0m in \u001b[0;36m<module>\u001b[1;34m\u001b[0m\n\u001b[0;32m      4\u001b[0m         \u001b[1;32mpass\u001b[0m\u001b[1;33m\u001b[0m\u001b[1;33m\u001b[0m\u001b[0m\n\u001b[0;32m      5\u001b[0m \u001b[1;33m\u001b[0m\u001b[0m\n\u001b[1;32m----> 6\u001b[1;33m \u001b[0mtest2\u001b[0m\u001b[1;33m(\u001b[0m\u001b[1;33m)\u001b[0m\u001b[1;33m\u001b[0m\u001b[1;33m\u001b[0m\u001b[0m\n\u001b[0m",
      "\u001b[1;31mTypeError\u001b[0m: 'NoneType' object is not callable"
     ]
    }
   ],
   "source": [
    "@time_calc\n",
    "def test2():\n",
    "    for i in range(10000):\n",
    "        pass\n",
    "\n",
    "test2()"
   ]
  },
  {
   "cell_type": "code",
   "execution_count": null,
   "id": "f30e4af4",
   "metadata": {},
   "outputs": [],
   "source": []
  }
 ],
 "metadata": {
  "kernelspec": {
   "display_name": "Python 3 (ipykernel)",
   "language": "python",
   "name": "python3"
  },
  "language_info": {
   "codemirror_mode": {
    "name": "ipython",
    "version": 3
   },
   "file_extension": ".py",
   "mimetype": "text/x-python",
   "name": "python",
   "nbconvert_exporter": "python",
   "pygments_lexer": "ipython3",
   "version": "3.9.7"
  }
 },
 "nbformat": 4,
 "nbformat_minor": 5
}
