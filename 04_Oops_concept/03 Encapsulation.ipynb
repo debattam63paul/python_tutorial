{
 "cells": [
  {
   "cell_type": "code",
   "execution_count": 1,
   "id": "fc131434",
   "metadata": {},
   "outputs": [],
   "source": [
    "class test:\n",
    "    def __init__(self,a,b):\n",
    "        self.a = a\n",
    "        self.b = b"
   ]
  },
  {
   "cell_type": "code",
   "execution_count": 4,
   "id": "c4e36f0a",
   "metadata": {},
   "outputs": [
    {
     "data": {
      "text/plain": [
       "(45, 34)"
      ]
     },
     "execution_count": 4,
     "metadata": {},
     "output_type": "execute_result"
    }
   ],
   "source": [
    "t = test(45,34) # object\n",
    "t.a, t.b"
   ]
  },
  {
   "cell_type": "code",
   "execution_count": 5,
   "id": "79dfc321",
   "metadata": {},
   "outputs": [],
   "source": [
    "# assigning a and b value externally is possible\n",
    "t.a = 100\n",
    "t.b = 200"
   ]
  },
  {
   "cell_type": "code",
   "execution_count": 6,
   "id": "ee0fba59",
   "metadata": {},
   "outputs": [
    {
     "data": {
      "text/plain": [
       "(100, 200)"
      ]
     },
     "execution_count": 6,
     "metadata": {},
     "output_type": "execute_result"
    }
   ],
   "source": [
    "t.a, t.b"
   ]
  },
  {
   "cell_type": "code",
   "execution_count": 7,
   "id": "d2a3d587",
   "metadata": {},
   "outputs": [],
   "source": [
    "# It is very dangerous for industry level project because anyone can access and also modify those values\n",
    "# To rectify this thing, Encapsulation comes into the picture, it prevents direct access or modification of data in OPPs\n",
    "\n",
    "# In medicine also we are not aware about the composition in a capsule or cant able to modify the compositions in capsule\n",
    "# But we know in which purpose this capsule is used\n",
    "# In here also we know what is the outcome we get but we cant change the data in a class externally if we use Encapsulation"
   ]
  },
  {
   "cell_type": "code",
   "execution_count": 32,
   "id": "85c914dd",
   "metadata": {},
   "outputs": [],
   "source": [
    "# Example of Encapsulation\n",
    "class car:\n",
    "    def __init__(self,year,company,model,speed):\n",
    "        #Keeping private all the information or properties about car using encapsulation\n",
    "        self.__year = year\n",
    "        self.__company = company\n",
    "        self.__model = model\n",
    "        self.__speed = speed\n",
    "        \n",
    "    # Giving accessibility of speed only to user for modifying speed\n",
    "    def set_speed(self,speed):\n",
    "        self.__speed = 0 if speed<0 else speed\n",
    "    \n",
    "    # Giving accessibility of speed only to user to see the modified speed\n",
    "    def get_speed(self):\n",
    "        return self.__speed\n",
    "\n",
    "model1 = car(2020,'Toyota','Innova',200)"
   ]
  },
  {
   "cell_type": "code",
   "execution_count": 33,
   "id": "8dbbf7f1",
   "metadata": {},
   "outputs": [
    {
     "ename": "AttributeError",
     "evalue": "'car' object has no attribute 'company'",
     "output_type": "error",
     "traceback": [
      "\u001b[1;31m---------------------------------------------------------------------------\u001b[0m",
      "\u001b[1;31mAttributeError\u001b[0m                            Traceback (most recent call last)",
      "\u001b[1;32mC:\\Users\\DEBATT~1\\AppData\\Local\\Temp/ipykernel_14172/3287688854.py\u001b[0m in \u001b[0;36m<module>\u001b[1;34m\u001b[0m\n\u001b[1;32m----> 1\u001b[1;33m \u001b[0mmodel1\u001b[0m\u001b[1;33m.\u001b[0m\u001b[0mcompany\u001b[0m \u001b[1;31m# Now we cant access or modify in this way, totally hidden from users\u001b[0m\u001b[1;33m\u001b[0m\u001b[1;33m\u001b[0m\u001b[0m\n\u001b[0m",
      "\u001b[1;31mAttributeError\u001b[0m: 'car' object has no attribute 'company'"
     ]
    }
   ],
   "source": [
    "model1.company # Now we cant access or modify in this way, totally hidden from users"
   ]
  },
  {
   "cell_type": "code",
   "execution_count": 34,
   "id": "1276d2c5",
   "metadata": {},
   "outputs": [
    {
     "data": {
      "text/plain": [
       "'Toyota'"
      ]
     },
     "execution_count": 34,
     "metadata": {},
     "output_type": "execute_result"
    }
   ],
   "source": [
    "model1._car__company # As a creator, we can access and modify in this way "
   ]
  },
  {
   "cell_type": "code",
   "execution_count": 35,
   "id": "26766b1e",
   "metadata": {},
   "outputs": [
    {
     "data": {
      "text/plain": [
       "400"
      ]
     },
     "execution_count": 35,
     "metadata": {},
     "output_type": "execute_result"
    }
   ],
   "source": [
    "# As an user someone can access and modify speed as creator has given accessibility on only speed\n",
    "# But as an user he/she cant able to see what is the modified speed, only admin or creator can see this\n",
    "model1.set_speed(400) # user can do this\n",
    "model1._car__speed # it is unknown to the user if admin dont give accessibility to check modified speed, admin only can write this code and see the modified speed"
   ]
  },
  {
   "cell_type": "code",
   "execution_count": 36,
   "id": "9cedb81c",
   "metadata": {},
   "outputs": [
    {
     "data": {
      "text/plain": [
       "0"
      ]
     },
     "execution_count": 36,
     "metadata": {},
     "output_type": "execute_result"
    }
   ],
   "source": [
    "model1.set_speed(-13)\n",
    "model1._car__speed"
   ]
  },
  {
   "cell_type": "code",
   "execution_count": 38,
   "id": "0989cd44",
   "metadata": {},
   "outputs": [
    {
     "data": {
      "text/plain": [
       "180"
      ]
     },
     "execution_count": 38,
     "metadata": {},
     "output_type": "execute_result"
    }
   ],
   "source": [
    "model1.set_speed(180)\n",
    "model1.get_speed()"
   ]
  },
  {
   "cell_type": "code",
   "execution_count": 72,
   "id": "9fe508fa",
   "metadata": {},
   "outputs": [],
   "source": [
    "# Best example of Encapsulation\n",
    "class bank_account:\n",
    "    def __init__(self, balance):\n",
    "        self.__balance = balance\n",
    "    \n",
    "    def deposit(self, amount):\n",
    "        self.__balance = self.__balance + amount\n",
    "        return 'Your amount is deposited successfully'\n",
    "    \n",
    "    def withdraw(self, amount):\n",
    "        if(amount < self.__balance):\n",
    "            self.__balance = self.__balance - amount\n",
    "            return 'Your amount is withdrawn successfully'\n",
    "        else:\n",
    "            return 'Your account has not that sufficient money to withdraw'\n",
    "    \n",
    "    def get_balance(self):\n",
    "        return self.__balance"
   ]
  },
  {
   "cell_type": "code",
   "execution_count": 73,
   "id": "7a8da16d",
   "metadata": {},
   "outputs": [
    {
     "ename": "AttributeError",
     "evalue": "'bank_account' object has no attribute 'balance'",
     "output_type": "error",
     "traceback": [
      "\u001b[1;31m---------------------------------------------------------------------------\u001b[0m",
      "\u001b[1;31mAttributeError\u001b[0m                            Traceback (most recent call last)",
      "\u001b[1;32mC:\\Users\\DEBATT~1\\AppData\\Local\\Temp/ipykernel_14172/901851112.py\u001b[0m in \u001b[0;36m<module>\u001b[1;34m\u001b[0m\n\u001b[0;32m      1\u001b[0m \u001b[0maccount1\u001b[0m \u001b[1;33m=\u001b[0m \u001b[0mbank_account\u001b[0m\u001b[1;33m(\u001b[0m\u001b[1;36m5000\u001b[0m\u001b[1;33m)\u001b[0m\u001b[1;33m\u001b[0m\u001b[1;33m\u001b[0m\u001b[0m\n\u001b[1;32m----> 2\u001b[1;33m \u001b[0maccount1\u001b[0m\u001b[1;33m.\u001b[0m\u001b[0mbalance\u001b[0m\u001b[1;33m\u001b[0m\u001b[1;33m\u001b[0m\u001b[0m\n\u001b[0m\u001b[0;32m      3\u001b[0m \u001b[1;31m# Note that in this way we are not able to update balance externally\u001b[0m\u001b[1;33m\u001b[0m\u001b[1;33m\u001b[0m\u001b[0m\n\u001b[0;32m      4\u001b[0m \u001b[1;31m# We can only update balance using deposit and withdrawal operation\u001b[0m\u001b[1;33m\u001b[0m\u001b[1;33m\u001b[0m\u001b[0m\n",
      "\u001b[1;31mAttributeError\u001b[0m: 'bank_account' object has no attribute 'balance'"
     ]
    }
   ],
   "source": [
    "account1 = bank_account(5000)\n",
    "account1.balance\n",
    "# Note that in this way we are not able to update balance externally\n",
    "# We can only update balance using deposit and withdrawal operation"
   ]
  },
  {
   "cell_type": "code",
   "execution_count": 74,
   "id": "410605c6",
   "metadata": {},
   "outputs": [],
   "source": [
    "account1 = bank_account(20000) # creating bank account1 with 20000 rs"
   ]
  },
  {
   "cell_type": "code",
   "execution_count": 75,
   "id": "139ab444",
   "metadata": {},
   "outputs": [
    {
     "data": {
      "text/plain": [
       "20000"
      ]
     },
     "execution_count": 75,
     "metadata": {},
     "output_type": "execute_result"
    }
   ],
   "source": [
    "account1.get_balance()"
   ]
  },
  {
   "cell_type": "code",
   "execution_count": 76,
   "id": "018e1d23",
   "metadata": {},
   "outputs": [
    {
     "data": {
      "text/plain": [
       "'Your amount is deposited successfully'"
      ]
     },
     "execution_count": 76,
     "metadata": {},
     "output_type": "execute_result"
    }
   ],
   "source": [
    "account1.deposit(5000)"
   ]
  },
  {
   "cell_type": "code",
   "execution_count": 77,
   "id": "18ca47c0",
   "metadata": {},
   "outputs": [
    {
     "data": {
      "text/plain": [
       "25000"
      ]
     },
     "execution_count": 77,
     "metadata": {},
     "output_type": "execute_result"
    }
   ],
   "source": [
    "account1.get_balance()"
   ]
  },
  {
   "cell_type": "code",
   "execution_count": 78,
   "id": "9cfc1bd3",
   "metadata": {},
   "outputs": [
    {
     "data": {
      "text/plain": [
       "'Your account has not that sufficient money to withdraw'"
      ]
     },
     "execution_count": 78,
     "metadata": {},
     "output_type": "execute_result"
    }
   ],
   "source": [
    "account1.withdraw(30000)"
   ]
  },
  {
   "cell_type": "code",
   "execution_count": 79,
   "id": "7fe49646",
   "metadata": {},
   "outputs": [
    {
     "data": {
      "text/plain": [
       "'Your amount is withdrawn successfully'"
      ]
     },
     "execution_count": 79,
     "metadata": {},
     "output_type": "execute_result"
    }
   ],
   "source": [
    "account1.withdraw(10000)"
   ]
  },
  {
   "cell_type": "code",
   "execution_count": 80,
   "id": "96460bd4",
   "metadata": {},
   "outputs": [
    {
     "data": {
      "text/plain": [
       "15000"
      ]
     },
     "execution_count": 80,
     "metadata": {},
     "output_type": "execute_result"
    }
   ],
   "source": [
    "account1.get_balance()"
   ]
  },
  {
   "cell_type": "code",
   "execution_count": null,
   "id": "f3a4f48c",
   "metadata": {},
   "outputs": [],
   "source": []
  }
 ],
 "metadata": {
  "kernelspec": {
   "display_name": "Python 3 (ipykernel)",
   "language": "python",
   "name": "python3"
  },
  "language_info": {
   "codemirror_mode": {
    "name": "ipython",
    "version": 3
   },
   "file_extension": ".py",
   "mimetype": "text/x-python",
   "name": "python",
   "nbconvert_exporter": "python",
   "pygments_lexer": "ipython3",
   "version": "3.9.7"
  }
 },
 "nbformat": 4,
 "nbformat_minor": 5
}
